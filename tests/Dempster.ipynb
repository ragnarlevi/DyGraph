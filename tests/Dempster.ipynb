{
 "cells": [
  {
   "cell_type": "code",
   "execution_count": 56,
   "metadata": {},
   "outputs": [],
   "source": [
    "import copy\n",
    "from typing import Set, Tuple, Optional\n",
    "from math import log, pi\n",
    "import matplotlib.pyplot as plt\n",
    "\n",
    "import pandas as pd\n",
    "import numpy as np\n",
    "\n",
    "# from rpy2.robjects.packages import importr\n",
    "# import rpy2.robjects as robjects\n",
    "# import rpy2.robjects.numpy2ri\n",
    "# rpy2.robjects.numpy2ri.activate()\n",
    "# HDtest = importr('HDtest')\n",
    "\n",
    "\n",
    "def calc_likelihood(sigma: np.ndarray) -> float:\n",
    "    p = sigma.shape[0]\n",
    "\n",
    "    # sigma = copy.deepcopy(sigma)\n",
    "    # for i in range(p):\n",
    "    #     for j in range(i):\n",
    "    #         sigma[i, j] = sigma[j, i]\n",
    "\n",
    "    try:\n",
    "        return -p / 2 * log(2 * pi) - 1 / 2 * log(np.linalg.det(sigma)) - p / 2\n",
    "    except ValueError:\n",
    "        print(log(np.linalg.det(sigma)))\n",
    "        print(sigma)\n",
    "        raise\n",
    "\n",
    "\n",
    "def get_sigma(ind: Tuple[int, int], s: np.ndarray, a: Set[Tuple[int, int]]) -> float:\n",
    "    i, j = ind\n",
    "    return s[i][j] if ind in a else 0\n",
    "\n",
    "\n",
    "def get_gamma(ind1: Tuple[int, int], ind2: Tuple[int, int], sig: np.ndarray):\n",
    "    i, j = ind1\n",
    "    k, l = ind2\n",
    "\n",
    "    if i != j:\n",
    "        if k != l:\n",
    "            return -(sig[i, k] * sig[j, l] + sig[i, l] * sig[j, k])\n",
    "        else:\n",
    "            return -sig[i, k] * sig[j, k]\n",
    "    else:\n",
    "        if k != l:\n",
    "            return -sig[i, k] * sig[j, l]\n",
    "        else:\n",
    "            return -1 / 2 * sig[i, k] ** 2\n",
    "\n",
    "\n",
    "def calc_next_estimation(edges: Set[Tuple[int, int]], sigma: np.ndarray, s: np.ndarray) -> np.ndarray:\n",
    "    p = s.shape[0]\n",
    "\n",
    "    inv_sigma = np.linalg.inv(sigma)\n",
    "    indices = list(edges)\n",
    "\n",
    "    theta = np.asarray([-s[i, j] if i != j else -1 / 2 * s[i, j] for i, j in indices])\n",
    "\n",
    "    delta = float('inf')\n",
    "    eps = 0.0001\n",
    "    while delta > eps:\n",
    "        gamma = np.ndarray(shape=(len(edges), len(edges)), dtype=float)\n",
    "\n",
    "        for i, e1 in enumerate(indices):\n",
    "            for j, e2 in enumerate(indices):\n",
    "                gamma[i, j] = get_gamma(e1, e2, sigma)\n",
    "\n",
    "        fa0 = np.asarray([inv_sigma[i, j] for i, j in indices])\n",
    "        theta0 = np.asarray([-sigma[i, j] if i != j else -1 / 2 * sigma[i, j] for i, j in indices])\n",
    "\n",
    "        s = np.linalg.solve(gamma, (theta - theta0))\n",
    "        new_fa = fa0 - s\n",
    "\n",
    "        inv_sigma = np.zeros(shape=(p, p))\n",
    "        for ind, e in enumerate(indices):\n",
    "            i, j = e\n",
    "            inv_sigma[i, j] = new_fa[ind]\n",
    "            inv_sigma[j, i] = new_fa[ind]\n",
    "\n",
    "        sigma = np.linalg.inv(inv_sigma)\n",
    "\n",
    "        delta = np.dot(new_fa, new_fa) - np.dot(fa0, fa0)\n",
    "\n",
    "    return sigma\n",
    "\n",
    "\n",
    "def get_corr_estimation(cur_estimation: np.ndarray,\n",
    "                        processed: Set[Tuple[int, int]],\n",
    "                        correlation_matrix: np.ndarray,\n",
    "                        significance_level: float):\n",
    "    p = correlation_matrix.shape[0]\n",
    "    corr_estimation = cur_estimation.copy()\n",
    "\n",
    "    cur_delta = float('inf')\n",
    "    base_likelihood = calc_likelihood(corr_estimation)\n",
    "    k = len(processed) - p\n",
    "    while cur_delta >= significance_level / (p * (p - 1) / 2 - k):\n",
    "        k += 1\n",
    "        max_delta = 0\n",
    "        best_edge = None\n",
    "        for i in range(p):\n",
    "            for j in range(i, p):\n",
    "                if (i, j) in processed:\n",
    "                    continue\n",
    "\n",
    "                cur_processed = copy.deepcopy(processed)\n",
    "                cur_processed.add((i, j))\n",
    "                new_corr_estimation = calc_next_estimation(cur_processed, corr_estimation, correlation_matrix)\n",
    "                cur_likelihood = calc_likelihood(new_corr_estimation)\n",
    "                cur_delta = cur_likelihood - base_likelihood\n",
    "                if cur_delta > max_delta:\n",
    "                    best_edge = (i, j)\n",
    "                    max_delta = cur_delta\n",
    "        if best_edge is None:\n",
    "            break\n",
    "\n",
    "        processed.add(best_edge)\n",
    "        corr_estimation = calc_next_estimation(processed, corr_estimation, correlation_matrix)\n",
    "\n",
    "        cur_likelihood = calc_likelihood(corr_estimation)\n",
    "        cur_delta = cur_likelihood - base_likelihood\n",
    "        base_likelihood = cur_likelihood\n",
    "\n",
    "    return corr_estimation\n",
    "\n",
    "\n",
    "def calculate(correlation_matrix: np.ndarray,\n",
    "              significance_level: float,\n",
    "              processed: Optional[Set[Tuple[int, int]]] = None) -> np.ndarray:\n",
    "    p = correlation_matrix.shape[0]\n",
    "\n",
    "    if not processed:\n",
    "        processed = set()\n",
    "    for i in range(p):\n",
    "        processed.add((i, i))\n",
    "\n",
    "    return get_corr_estimation(\n",
    "        np.identity(p),\n",
    "        processed,\n",
    "        correlation_matrix,\n",
    "        significance_level\n",
    "    )"
   ]
  },
  {
   "cell_type": "code",
   "execution_count": 61,
   "metadata": {},
   "outputs": [
    {
     "name": "stdout",
     "output_type": "stream",
     "text": [
      "6.096480866116901\n"
     ]
    },
    {
     "data": {
      "text/plain": [
       "True"
      ]
     },
     "execution_count": 61,
     "metadata": {},
     "output_type": "execute_result"
    }
   ],
   "source": [
    "from sklearn.datasets import make_sparse_spd_matrix\n",
    "\n",
    "d = 10\n",
    "theta = make_sparse_spd_matrix(d, alpha=0.9,norm_diag=False)\n",
    "print(np.linalg.cond(theta))\n",
    "\n",
    "\n",
    "S = np.linalg.inv(theta)\n",
    "def correlation_from_covariance(covariance):\n",
    "    v = np.sqrt(np.diag(covariance))\n",
    "    outer_v = np.outer(v, v)\n",
    "    correlation = covariance / outer_v\n",
    "    correlation[covariance == 0] = 0\n",
    "    return correlation\n",
    "\n",
    "S = correlation_from_covariance(S)\n",
    "theta = np.linalg.inv(S)\n",
    "I_true = [(i,j) for i in range(d) for j in range(d) if theta[i,j] == 0]\n",
    "\n",
    "S_dempster = calculate(S, 0.05)\n",
    "\n",
    "processed = [(i,i) for i in range(d)]\n",
    "\n",
    "processed_next = [(i,j) for i in range(d) for j in range(i+1,d) if (theta[i,j] != 0)]\n",
    "\n",
    "new_corr_estimation = np.identity(d)\n",
    "for i, j in processed_next:\n",
    "    processed.append((i,j))\n",
    "\n",
    "    new_corr_estimation = calc_next_estimation(processed, new_corr_estimation, S)\n",
    "\n",
    "theta_new = np.linalg.inv(new_corr_estimation)\n",
    "\n",
    "I_new = [(i,j) for i in range(d) for j in range(d) if theta_new[i,j] == 0]\n",
    "\n",
    "I_new == I_true"
   ]
  },
  {
   "cell_type": "code",
   "execution_count": 64,
   "metadata": {},
   "outputs": [
    {
     "data": {
      "text/plain": [
       "<AxesSubplot:>"
      ]
     },
     "execution_count": 64,
     "metadata": {},
     "output_type": "execute_result"
    },
    {
     "data": {
      "image/png": "[encoded data removed]",
      "text/plain": [
       "<Figure size 720x360 with 4 Axes>"
      ]
     },
     "metadata": {
      "needs_background": "light"
     },
     "output_type": "display_data"
    }
   ],
   "source": [
    "import seaborn as sns\n",
    "fig, ax = plt.subplots(1,2, figsize = (10,5))\n",
    "sns.heatmap(new_corr_estimation, ax = ax[0])\n",
    "sns.heatmap(S, ax = ax[1])\n"
   ]
  },
  {
   "cell_type": "code",
   "execution_count": 55,
   "metadata": {},
   "outputs": [
    {
     "name": "stderr",
     "output_type": "stream",
     "text": [
      "R[write to console]: The method 'Scott' does not support skewed data.\n",
      "\n",
      "R[write to console]: The method 'Scott' does not support skewed data.\n",
      "\n",
      "R[write to console]: The method 'Scott' does not support skewed data.\n",
      "\n",
      "R[write to console]: The method 'Scott' does not support skewed data.\n",
      "\n",
      "R[write to console]: The method 'Scott' does not support skewed data.\n",
      "\n",
      "R[write to console]: The method 'Scott' does not support skewed data.\n",
      "\n",
      "R[write to console]: The method 'Scott' does not support skewed data.\n",
      "\n",
      "R[write to console]: The method 'Scott' does not support skewed data.\n",
      "\n",
      "R[write to console]: The method 'Scott' does not support skewed data.\n",
      "\n"
     ]
    },
    {
     "data": {
      "text/plain": [
       "[<matplotlib.lines.Line2D at 0x1e714b7df70>]"
      ]
     },
     "execution_count": 55,
     "metadata": {},
     "output_type": "execute_result"
    },
    {
     "data": {
      "image/png": "[encoded data removed]",
      "text/plain": [
       "<Figure size 432x288 with 1 Axes>"
      ]
     },
     "metadata": {
      "needs_background": "light"
     },
     "output_type": "display_data"
    }
   ],
   "source": [
    "p_vals = []\n",
    "\n",
    "for n in range(100,1000,100):\n",
    "\n",
    "    X1 = np.random.multivariate_normal(mean = np.zeros(d), cov = S, size = n)\n",
    "    X2 = np.random.multivariate_normal(mean = np.zeros(d), cov = S, size = n)\n",
    "\n",
    "    S_1 = np.cov(X1.T)\n",
    "\n",
    "    processed = [(i,i) for i in range(d)]\n",
    "    processed_next = [(i,j) for i in range(d) for j in range(i+1,d) if (theta[i,j] != 0)]\n",
    "    new_corr_estimation = np.identity(d)\n",
    "    for i, j in processed_next:\n",
    "        processed.append((i,j))\n",
    "\n",
    "        new_corr_estimation = calc_next_estimation(processed, new_corr_estimation, S)\n",
    "\n",
    "    \n",
    "\n",
    "\n",
    "    cov_test = HDtest.testCov(new_corr_estimation, S_1)\n",
    "    cov_test = dict(zip(cov_test.names, list(cov_test)))\n",
    "    p_vals.append(list(cov_test['CLX'])[1])\n",
    "\n",
    "plt.plot(p_vals)"
   ]
  }
 ],
 "metadata": {
  "kernelspec": {
   "display_name": "DyGraph",
   "language": "python",
   "name": "python3"
  },
  "language_info": {
   "codemirror_mode": {
    "name": "ipython",
    "version": 3
   },
   "file_extension": ".py",
   "mimetype": "text/x-python",
   "name": "python",
   "nbconvert_exporter": "python",
   "pygments_lexer": "ipython3",
   "version": "3.8.5"
  },
  "orig_nbformat": 4
 },
 "nbformat": 4,
 "nbformat_minor": 2
}
