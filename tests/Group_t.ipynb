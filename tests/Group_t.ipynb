{
 "cells": [
  {
   "cell_type": "code",
   "execution_count": 1,
   "metadata": {},
   "outputs": [],
   "source": [
    "import numpy as np\n",
    "import sys,os\n",
    "import matplotlib.pyplot as plt\n",
    "from scipy.stats import multivariate_t, norm, chi2, multivariate_normal\n",
    "import sklearn\n",
    "from sklearn.covariance import GraphicalLasso\n",
    "import scipy\n",
    "from sklearn.metrics import zero_one_loss\n",
    "from sklearn.metrics.pairwise import pairwise_kernels\n",
    "import time\n",
    "import tqdm\n",
    "import networkx as nx\n",
    "import scipy.integrate as integrate\n",
    "from sklearn.datasets import make_sparse_spd_matrix\n",
    "sys.path.insert(0, 'C:/Users/User/Code/DyGraph')\n",
    "\n",
    "import DyGraph as dg\n",
    "import utils"
   ]
  },
  {
   "attachments": {},
   "cell_type": "markdown",
   "metadata": {},
   "source": [
    "# Functions"
   ]
  },
  {
   "cell_type": "code",
   "execution_count": 2,
   "metadata": {},
   "outputs": [],
   "source": [
    "\n",
    "def integrand_pair(u,S,x,T,i,j):\n",
    "\n",
    "\n",
    "    T_vec = T(u)\n",
    "    #a = np.diag(np.sqrt(np.reciprocal(T_vec)))\n",
    "    #cov = np.dot(a,S).dot(a)\n",
    "    a = np.sqrt(np.reciprocal(T_vec))\n",
    "    cov = np.multiply(S, np.outer(a,a))\n",
    "    A = np.sqrt(T_vec)\n",
    "    return A[i]*A[j]*multivariate_normal.pdf(x, mean =np.zeros(S.shape[0]), cov = cov)\n",
    "\n",
    "integrand_pair = np.vectorize(integrand_pair,excluded = [1,2,3,4,5])\n",
    "def generalized_skew_t( x, cov, T, gamma = None, tol = 1e-4):\n",
    "\n",
    "    gamma = np.array(gamma)\n",
    "    if gamma is None:\n",
    "        gamma = np.zeros(cov.shape[0])\n",
    "        # cov = np.dot(np.sqrt(np.diag(np.reciprocal(T(u)))), cov).dot(np.sqrt(np.diag(np.reciprocal(T(u)))))\n",
    "    integrand = lambda u: multivariate_normal.pdf(x, mean = np.reciprocal(T(u))*gamma, cov = np.multiply(cov, np.outer(np.sqrt(np.reciprocal(T(u))),np.sqrt(np.reciprocal(T(u))))) )\n",
    "    integrand = np.vectorize(integrand)\n",
    "    result = integrate.quadrature(integrand, 0, 1,miniter=1,tol = tol)\n",
    "    return result[0]\n",
    "\n",
    "\n",
    "\n",
    "def EM_matrix_update(theta, T, x, m, tol_skew_t= 1e-4, tol_expectation= 1e-4):\n",
    "    from collections import defaultdict\n",
    "\n",
    "\n",
    "    combination_calculated = defaultdict(lambda: None)\n",
    "    d = theta.shape[0]\n",
    "    D = np.zeros(shape = theta.shape)\n",
    "    S = np.linalg.inv(theta)\n",
    "    denom = generalized_skew_t(x, S, T, gamma = None,tol = tol_skew_t)\n",
    "\n",
    "    for i in range(D.shape[0]):\n",
    "        for j in range(i, D.shape[0]):\n",
    "            combintaion = ''.join(sorted(str(m[i])+str(m[j])))\n",
    "            if combination_calculated[combintaion] is None:\n",
    "                D[i,j] =  integrate.quadrature(integrand_pair, 0, 1 ,args = (S, x, T,i,j),miniter=1,tol = tol_expectation)[0]/denom\n",
    "                combination_calculated[combintaion] = D[i,j]\n",
    "            else:\n",
    "                D[i,j] = combination_calculated[combintaion]\n",
    "\n",
    "    return np.triu(D,0) + np.triu(D,1).T\n",
    "\n",
    "\n",
    "def generate_group_t(Sigma, nu, n):\n",
    "\n",
    "    T = lambda u: np.array([chi2.ppf(u, df = nu[i])/nu[i] for i in range(len(nu))])\n",
    "\n",
    "    d = Sigma.shape[0]\n",
    "    x = np.random.multivariate_normal(mean = np.zeros(d),cov = Sigma, size = n)\n",
    "    y = np.zeros(shape = (n, d))\n",
    "\n",
    "    for i in range(n):\n",
    "\n",
    "\n",
    "        u = np.random.uniform()\n",
    "        y[i] = np.sqrt(np.reciprocal(T(u)))*x[i]\n",
    "\n",
    "    return y\n",
    "\n"
   ]
  },
  {
   "cell_type": "code",
   "execution_count": 3,
   "metadata": {},
   "outputs": [],
   "source": [
    "\n",
    "prec_1 = np.array([[ 1.51515152,  0.        , -1.06060606,  0.55151515],\n",
    "                    [ 0.        ,  2.5       ,  0.        ,  0.        ],\n",
    "                    [-1.06060606,  0.        ,  4.24242424, -0.60606061],\n",
    "                    [ 0.55151515,  0.        , -0.60606061,  1.51515152]])\n",
    "\n",
    "\n",
    "groups = [0,0,0,0]\n",
    "nu = [4]*4\n",
    "X = generate_group_t(Sigma = np.linalg.inv(prec_1), nu = nu,n = 200)\n",
    "#X = multivariate_t.rvs(shape = np.linalg.inv(prec_1), df = 4, size = 100)\n",
    "obs_per_graph = 100"
   ]
  },
  {
   "attachments": {},
   "cell_type": "markdown",
   "metadata": {},
   "source": [
    "# Group-t"
   ]
  },
  {
   "cell_type": "code",
   "execution_count": 4,
   "metadata": {},
   "outputs": [
    {
     "name": "stderr",
     "output_type": "stream",
     "text": [
      "Error 7.53E-4: 100%|██████████| 100/100 [02:28<00:00,  1.66s/it]C:\\Users/User/Code/DyGraph\\DyGraph\\dygl_parallel.py:278: UserWarning: Max iterations reached.\n",
      "  warnings.warn(\"Max iterations reached.\")\n",
      "Error 7.53E-4: 100%|██████████| 100/100 [02:28<00:00,  1.49s/it]\n"
     ]
    }
   ],
   "source": [
    "\n",
    "nu_model = [nu]* 2\n",
    "\n",
    "dg_group = dg.dygl(obs_per_graph = obs_per_graph, max_iter = 100, lamda = obs_per_graph*0.05, kappa = obs_per_graph*0.1, tol = 1e-6)\n",
    "dg_group.fit(X, nr_workers=1, temporal_penalty=\"element-wise\", lik_type=\"group-t\", nr_em_itr = 1, time_index=range(X.shape[0]), nu = nu_model,groups = groups,tol_expectation=1e-3, tol_skew_t=1e-3)"
   ]
  },
  {
   "cell_type": "code",
   "execution_count": 5,
   "metadata": {},
   "outputs": [
    {
     "name": "stderr",
     "output_type": "stream",
     "text": [
      "Error 1.03E-6:  31%|███▏      | 313/1000 [00:00<00:00, 1261.81it/s]\n"
     ]
    }
   ],
   "source": [
    "dg_student = dg.dygl_parallel(obs_per_graph = obs_per_graph, max_iter = 1000, lamda = obs_per_graph*0.05, kappa = obs_per_graph*0.1, tol = 1e-6)\n",
    "dg_student.fit(X, nr_workers=1, temporal_penalty=\"element-wise\", lik_type=\"t\", nr_em_itr = 1, time_index=range(X.shape[0]), nu = 4)"
   ]
  },
  {
   "cell_type": "code",
   "execution_count": 6,
   "metadata": {},
   "outputs": [
    {
     "data": {
      "text/plain": [
       "<matplotlib.legend.Legend at 0x226d08d0bb0>"
      ]
     },
     "execution_count": 6,
     "metadata": {},
     "output_type": "execute_result"
    },
    {
     "data": {
      "image/png": "[encoded data removed]",
      "text/plain": [
       "<Figure size 1000x400 with 3 Axes>"
      ]
     },
     "metadata": {},
     "output_type": "display_data"
    }
   ],
   "source": [
    "\n",
    "fig, ax = plt.subplots(1,3, figsize = (10,4))\n",
    "\n",
    "ax[0].plot([0,1],dg_student.theta[:,0,0], label = \"1-1\", color = 'blue')\n",
    "ax[0].plot([0,1],dg_group.theta[:,0,0], color = 'lightblue')\n",
    "ax[0].plot([0,1], [prec_1[0,0], prec_1[0,0]], label = \"1-1-true\", color = 'black', linestyle = '--')\n",
    "\n",
    "ax[1].plot([0,1],dg_student.theta[:,0,1], label = \"1-2\", color = 'blue')\n",
    "ax[1].plot([0,1],dg_group.theta[:,0,1], color = 'lightblue')\n",
    "ax[1].plot([0,1], [prec_1[0,1], prec_1[0,1]], label = \"1-2-true\", color = 'black', linestyle = '--')\n",
    "\n",
    "ax[2].plot([0,1],dg_student.theta[:,0,3], label = \"1-4\", color = 'blue')\n",
    "ax[2].plot([0,1],dg_group.theta[:,0,3], color = 'lightblue')\n",
    "ax[2].plot([0,1], [prec_1[0,3], prec_1[0,3]], label = \"1-4-true\", color = 'black', linestyle = '--')\n",
    "\n",
    "\n",
    "ax[2].legend(bbox_to_anchor = [1,1])\n"
   ]
  },
  {
   "attachments": {},
   "cell_type": "markdown",
   "metadata": {},
   "source": [
    "Larger dimension"
   ]
  },
  {
   "cell_type": "code",
   "execution_count": 2,
   "metadata": {},
   "outputs": [
    {
     "ename": "NameError",
     "evalue": "name 'generate_group_t' is not defined",
     "output_type": "error",
     "traceback": [
      "\u001b[1;31m---------------------------------------------------------------------------\u001b[0m",
      "\u001b[1;31mNameError\u001b[0m                                 Traceback (most recent call last)",
      "\u001b[1;32mc:\\Users\\User\\Code\\DyGraph\\tests\\Group_t.ipynb Cell 10\u001b[0m in \u001b[0;36m6\n\u001b[0;32m      <a href='vscode-notebook-cell:/c%3A/Users/User/Code/DyGraph/tests/Group_t.ipynb#X12sZmlsZQ%3D%3D?line=3'>4</a>\u001b[0m groups \u001b[39m=\u001b[39m [\u001b[39m0\u001b[39m]\u001b[39m*\u001b[39md\n\u001b[0;32m      <a href='vscode-notebook-cell:/c%3A/Users/User/Code/DyGraph/tests/Group_t.ipynb#X12sZmlsZQ%3D%3D?line=4'>5</a>\u001b[0m nu \u001b[39m=\u001b[39m [\u001b[39m4\u001b[39m]\u001b[39m*\u001b[39md\n\u001b[1;32m----> <a href='vscode-notebook-cell:/c%3A/Users/User/Code/DyGraph/tests/Group_t.ipynb#X12sZmlsZQ%3D%3D?line=5'>6</a>\u001b[0m X \u001b[39m=\u001b[39m generate_group_t(Sigma \u001b[39m=\u001b[39m np\u001b[39m.\u001b[39mlinalg\u001b[39m.\u001b[39minv(prec_0), nu \u001b[39m=\u001b[39m nu,n \u001b[39m=\u001b[39m \u001b[39m60\u001b[39m)\n\u001b[0;32m      <a href='vscode-notebook-cell:/c%3A/Users/User/Code/DyGraph/tests/Group_t.ipynb#X12sZmlsZQ%3D%3D?line=6'>7</a>\u001b[0m \u001b[39m#X = multivariate_t.rvs(shape = np.linalg.inv(prec_1), df = 4, size = 100)\u001b[39;00m\n\u001b[0;32m      <a href='vscode-notebook-cell:/c%3A/Users/User/Code/DyGraph/tests/Group_t.ipynb#X12sZmlsZQ%3D%3D?line=7'>8</a>\u001b[0m obs_per_graph \u001b[39m=\u001b[39m \u001b[39m30\u001b[39m\n",
      "\u001b[1;31mNameError\u001b[0m: name 'generate_group_t' is not defined"
     ]
    }
   ],
   "source": [
    "d = 30\n",
    "prec_0 = make_sparse_spd_matrix(d, alpha=0.3, smallest_coef=-0.3, largest_coef=0.3, norm_diag = True,random_state=42)\n",
    "\n",
    "groups = [0]*d\n",
    "nu = [4]*d\n",
    "X = generate_group_t(Sigma = np.linalg.inv(prec_0), nu = nu,n = 60)\n",
    "#X = multivariate_t.rvs(shape = np.linalg.inv(prec_1), df = 4, size = 100)\n",
    "obs_per_graph = 30"
   ]
  },
  {
   "cell_type": "code",
   "execution_count": 4,
   "metadata": {},
   "outputs": [
    {
     "name": "stderr",
     "output_type": "stream",
     "text": [
      "Error 1.48E-5: 100%|██████████| 100/100 [03:05<00:00,  1.81s/it]C:\\Users/User/Code/DyGraph\\DyGraph\\dygl_parallel.py:417: UserWarning: Max iterations reached.\n",
      "  warnings.warn(\"Max iterations reached.\")\n",
      "Error 1.48E-5: 100%|██████████| 100/100 [03:05<00:00,  1.85s/it]\n"
     ]
    }
   ],
   "source": [
    "\n",
    "dg_group_large = dg.dygl_parallel(obs_per_graph = obs_per_graph, max_iter = 100, lamda = obs_per_graph*0.05, kappa = obs_per_graph*0.1, tol = 1e-6)\n",
    "dg_group_large.fit(X, nr_workers=2, temporal_penalty=\"element-wise\", lik_type=\"group-t\", nr_em_itr = 1, time_index=range(X.shape[0]), nu = nu,groups = groups,tol_expectation=1e-3, tol_skew_t=1e-3)"
   ]
  },
  {
   "attachments": {},
   "cell_type": "markdown",
   "metadata": {},
   "source": [
    "# Skew T"
   ]
  },
  {
   "cell_type": "code",
   "execution_count": 2,
   "metadata": {},
   "outputs": [],
   "source": [
    "def _T(u,nu):\n",
    "    return np.array([chi2.ppf(u, df = nu[i])/nu[i] for i in range(len(nu))])\n",
    "\n",
    "\n",
    "def generalized_skew_t( x, cov, nu, gamma = None, n = 10):\n",
    "    \"\"\"\n",
    "    pdf of the generalized skew-T distribution\n",
    "\n",
    "    Paremters\n",
    "    -----------------\n",
    "    x: np.array\n",
    "        Vector of features /(1 observation)\n",
    "    cov: np.array\n",
    "        Covariance of the normal distribution\n",
    "    nu: list\n",
    "        Degree of freedom for each feature in x\n",
    "    gamma: np.vector or None\n",
    "        The addition term of the generalized skew-T distribution. If None a vector of zeros will be used\n",
    "        which corresponds to the group-T distribution\n",
    "    n: int\n",
    "        Number of Gaussian-Qudrature terms for the integration\n",
    "\n",
    "    \"\"\"\n",
    "\n",
    "    if gamma is None:\n",
    "        gamma = np.zeros(cov.shape[0])\n",
    "        # cov = np.dot(np.sqrt(np.diag(np.reciprocal(T(u)))), cov).dot(np.sqrt(np.diag(np.reciprocal(T(u)))))\n",
    "\n",
    "    integrand = lambda u: multivariate_normal.pdf(x, mean = np.reciprocal(_T(u,nu))*gamma, cov = np.multiply(cov, np.outer(np.sqrt(np.reciprocal(_T(u,nu))),np.sqrt(np.reciprocal(_T(u,nu))))) )\n",
    "    integrand = np.vectorize(integrand)\n",
    "    result = integrate.fixed_quad(integrand, 0, 1,n = n)\n",
    "    return result[0]\n",
    "\n",
    "def integrand_pair(u,S,gamma,x,nu,i,j):\n",
    "\n",
    "\n",
    "    T_vec = _T(u,nu)\n",
    "    #a = np.diag(np.sqrt(np.reciprocal(T_vec)))\n",
    "    #cov = np.dot(a,S).dot(a)\n",
    "    a = np.sqrt(np.reciprocal(T_vec))\n",
    "    cov = np.multiply(S, np.outer(a,a))\n",
    "    mean = gamma*np.reciprocal(T_vec)\n",
    "\n",
    "    A = np.sqrt(T_vec)\n",
    "    return A[i]*A[j]*multivariate_normal.pdf(x, mean =mean, cov = cov)\n",
    "\n",
    "integrand_pair = np.vectorize(integrand_pair,excluded = [1,2,3,4,5,6])\n",
    "\n",
    "\n",
    "def EM_matrix_update(theta, x, nu,m, gamma, n = 5):\n",
    "    from collections import defaultdict\n",
    "\n",
    "\n",
    "    combination_calculated = defaultdict(lambda: None)\n",
    "    d = theta.shape[0]\n",
    "    D = np.zeros(shape = theta.shape)\n",
    "    S = np.linalg.inv(theta)\n",
    "    denom = generalized_skew_t(x, S,nu, gamma = gamma, n = n)\n",
    "\n",
    "    for i in range(D.shape[0]):\n",
    "        for j in range(i, D.shape[0]):\n",
    "            combintaion = ''.join(sorted(str(m[i])+str(m[j])))\n",
    "            if combination_calculated[combintaion] is None:\n",
    "                D[i,j] =  integrate.fixed_quad(integrand_pair, 0, 1 ,args = (S,gamma, x,nu,i,j),n = n)[0]/denom\n",
    "                combination_calculated[combintaion] = D[i,j]\n",
    "            else:\n",
    "                D[i,j] = combination_calculated[combintaion]\n",
    "\n",
    "    return np.triu(D,0) + np.triu(D,1).T\n",
    "\n",
    "\n",
    "def integrand_pair_d2(u,S,gamma,x,nu,i,j):\n",
    "\n",
    "\n",
    "    T_vec = _T(u,nu)\n",
    "    #a = np.diag(np.sqrt(np.reciprocal(T_vec)))\n",
    "    #cov = np.dot(a,S).dot(a)\n",
    "    a = np.sqrt(np.reciprocal(T_vec))\n",
    "    cov = np.multiply(S, np.outer(a,a))\n",
    "    mean = gamma*np.reciprocal(T_vec)\n",
    "\n",
    "    return np.sqrt(T_vec[j])*(1/np.sqrt(T_vec[i]))*multivariate_normal.pdf(x, mean =mean, cov = cov)\n",
    "\n",
    "integrand_pair_d2 = np.vectorize(integrand_pair_d2,excluded = [1,2,3,4,5,6])\n",
    "\n",
    "\n",
    "def EM_matrix_update_d2(theta, x, nu,m, gamma, n = 5):\n",
    "    from collections import defaultdict\n",
    "\n",
    "\n",
    "    combination_calculated = defaultdict(lambda: None)\n",
    "    d = theta.shape[0]\n",
    "    D = np.zeros(shape = theta.shape)\n",
    "    S = np.linalg.inv(theta)\n",
    "    denom = generalized_skew_t(x, S,nu, gamma = gamma, n = n)\n",
    "\n",
    "    for i in range(D.shape[0]):\n",
    "        for j in range(D.shape[0]):\n",
    "            combintaion = ''.join(sorted(str(m[i])+str(m[j])))\n",
    "            if combination_calculated[combintaion] is None:\n",
    "                D[i,j] =  integrate.fixed_quad(integrand_pair_d2, 0, 1 ,args = (S, gamma, x,nu,i,j),n = n)[0]/denom\n",
    "                combination_calculated[combintaion] = D[i,j]\n",
    "            else:\n",
    "                D[i,j] = combination_calculated[combintaion]\n",
    "\n",
    "    return D\n",
    "\n",
    "\n",
    "\n",
    "\n",
    "\n",
    "def integrand_pair_d3(u,S,gamma,x,nu,i,j):\n",
    "\n",
    "\n",
    "    T_vec = _T(u,nu)\n",
    "    #a = np.diag(np.sqrt(np.reciprocal(T_vec)))\n",
    "    #cov = np.dot(a,S).dot(a)\n",
    "    a = np.sqrt(np.reciprocal(T_vec))\n",
    "    cov = np.multiply(S, np.outer(a,a))\n",
    "    mean = gamma*np.reciprocal(T_vec)\n",
    "\n",
    "    return (1/np.sqrt(T_vec[i]))*(1/np.sqrt(T_vec[j]))*multivariate_normal.pdf(x, mean =mean, cov = cov)\n",
    "\n",
    "integrand_pair_d3 = np.vectorize(integrand_pair_d3, excluded = [1,2,3,4,5,6])\n",
    "\n",
    "\n",
    "def EM_matrix_update_d3(theta, x, nu,m,gamma,n = 5):\n",
    "    from collections import defaultdict\n",
    "\n",
    "\n",
    "    combination_calculated = defaultdict(lambda: None)\n",
    "    d = theta.shape[0]\n",
    "    D = np.zeros(shape = theta.shape)\n",
    "    S = np.linalg.inv(theta)\n",
    "    denom = generalized_skew_t(x, S,nu, gamma = gamma, n = n)\n",
    "\n",
    "    for i in range(D.shape[0]):\n",
    "        for j in range(i, D.shape[0]):\n",
    "            combintaion = ''.join(sorted(str(m[i])+str(m[j])))\n",
    "            if combination_calculated[combintaion] is None:\n",
    "                D[i,j] =  integrate.fixed_quad(integrand_pair_d3, 0, 1 ,args = (S, gamma, x,nu,i,j),n = n)[0]/denom\n",
    "                combination_calculated[combintaion] = D[i,j]\n",
    "            else:\n",
    "                D[i,j] = combination_calculated[combintaion]\n",
    "\n",
    "    return np.triu(D,0) + np.triu(D,1).T"
   ]
  },
  {
   "cell_type": "code",
   "execution_count": 3,
   "metadata": {},
   "outputs": [],
   "source": [
    "def Gaussian_update(S, A,  eta):\n",
    "\n",
    "    \"\"\"\n",
    "    Update according to gaussian likelihood\n",
    "    \"\"\"\n",
    "    AT = A.T\n",
    "    M =  0.5*(A+AT)/eta - S\n",
    "    D, Q = np.linalg.eig(M)\n",
    "    diag_m = np.diag(D+np.sqrt(D**2 + 4.0/eta))\n",
    "    return np.real(0.5*eta*np.dot(Q, diag_m).dot(Q.T))\n",
    "\n",
    "\n",
    "\n",
    "def em_iteration(X,A, A_gamma, theta_init, nu, rho_gamma, eta, gamma, groups = None,n = 5, tol = 1e-10 ,yes = True  ):\n",
    "    d = X.shape[1]\n",
    "    iteration = 0\n",
    "\n",
    "    while iteration < 1:\n",
    "        # E-step\n",
    "        x = X\n",
    "        S = np.zeros(shape = (d,d))\n",
    "        G1 = np.zeros(shape = d)\n",
    "        G2 = np.zeros(shape = (d,d))\n",
    "        #print(\"starting E-step\")\n",
    "        for i in range(x.shape[0]):\n",
    "            # print(i)\n",
    "            D_1 = EM_matrix_update(theta_init,x[i],nu,groups, gamma, n)\n",
    "            D_2 = EM_matrix_update_d2(theta_init,x[i],nu,groups, gamma, n)\n",
    "            D_3 = EM_matrix_update_d3(theta_init,x[i],nu,groups, gamma, n)\n",
    "\n",
    "            #D_1 = np.outer(np.sqrt(V[i]), np.sqrt(V[i]))\n",
    "            #D_2 = np.outer(np.sqrt(1/V[i]), np.sqrt(V[i]))\n",
    "            #D_3 = np.outer(np.sqrt(1/V[i]), np.sqrt(1/V[i]))\n",
    "\n",
    "            S +=  (np.multiply(np.outer(x[i],x[i]),D_1 )-np.multiply(np.outer(gamma,x[i]),D_2 )-np.multiply(np.outer(x[i],gamma),D_2.T )+np.multiply(np.outer(gamma,gamma),D_3 ) )/float(x.shape[0])\n",
    "            #S +=  np.dot(np.diag(np.sqrt(V[i])), np.outer(x[i],x[i])).dot(np.diag(np.sqrt(V[i])))/float(x.shape[0])\n",
    "            #S -= np.dot(np.diag(np.sqrt(1/V[i])), np.outer(gamma,x[i])).dot(np.diag(np.sqrt(V[i])))/float(x.shape[0])\n",
    "            #S -= np.dot(np.diag(np.sqrt(V[i])), np.outer(x[i],gamma)).dot(np.diag(np.sqrt(1/V[i])))/float(x.shape[0])\n",
    "            #S +=  np.dot(np.diag(np.sqrt(1/V[i])), np.outer(gamma,gamma)).dot(np.diag(np.sqrt(1/V[i])))/float(x.shape[0])\n",
    "            \n",
    "            G1 += np.multiply(theta_init, D_2).dot(x[i])\n",
    "            G2 += D_3\n",
    "\n",
    "            #G1 += np.dot(np.diag(np.sqrt(1/V[i])), theta_init).dot(np.diag(np.sqrt(V[i]))).dot(X[i])\n",
    "            #G2 += np.dot(np.diag(np.sqrt(1/V[i])), theta_init).dot(np.diag(np.sqrt(1/V[i])))\n",
    "\n",
    "\n",
    "        # M-step\n",
    "        theta_new = Gaussian_update(S, A, eta)\n",
    "        #theta_new= theta_init #Gaussian_update(S, A, eta)\n",
    "        if yes:\n",
    "            gamma_new = np.dot(np.linalg.inv(np.multiply(theta_new, G2)+rho_gamma*np.identity(d)), G1 +rho_gamma*A_gamma)\n",
    "        else:\n",
    "            gamma_new = np.dot(np.linalg.inv(np.multiply(theta_new, G2)), G1 )\n",
    "        #gamma_new = np.dot(np.linalg.inv(G2), G1)\n",
    "        # gamma_new = gamma\n",
    "        fro = np.linalg.norm(theta_new - theta_init)\n",
    "        if fro < tol:\n",
    "            theta_init = theta_new.copy()\n",
    "            break\n",
    "        iteration+=1\n",
    "\n",
    "\n",
    "    return theta_new, gamma_new,  G1, G2\n",
    "\n",
    "\n",
    "\n",
    "def soft_threshold_odd( A, lamda):\n",
    "\n",
    "    \"\"\"\n",
    "    diagonal lasso penalty\n",
    "\n",
    "    Parameters\n",
    "    ------------------\n",
    "    A: np.array,\n",
    "    \n",
    "    lamda: float,\n",
    "        regularization\n",
    "    \"\"\"\n",
    "    opt_m = (A-lamda)*(A>=lamda) + (A+lamda)*(A<=-lamda)\n",
    "    \n",
    "\n",
    "    return opt_m\n",
    "\n",
    "def generate_skew_t(Sigma, gamma, nu, n):\n",
    "\n",
    "    \n",
    "\n",
    "    d = Sigma.shape[0]\n",
    "    x = np.random.multivariate_normal(mean = np.zeros(d),cov = Sigma, size = n)\n",
    "    y = np.zeros(shape = (n, d))\n",
    "\n",
    "    for i in range(n):\n",
    "        \n",
    "        u = np.random.uniform()\n",
    "        v = chi2.ppf(u, df = nu)/nu \n",
    "\n",
    "        u = np.random.uniform()\n",
    "        y[i] = (1/v)*gamma+ np.sqrt(1/v)*x[i]\n",
    "\n",
    "    return y\n",
    "\n",
    "\n",
    "\n",
    "def generate_gen_skew_t(Sigma, gamma, nu, n):\n",
    "    from scipy.stats import uniform\n",
    "\n",
    "    T = lambda u: np.array([chi2.ppf(u, df = nu[k])/nu[k] for k in range(len(nu))])\n",
    "\n",
    "    d = Sigma.shape[0]\n",
    "    x = np.random.multivariate_normal(mean = np.zeros(d),cov = Sigma, size = n)\n",
    "    y = np.zeros(shape = (n, d))\n",
    "\n",
    "    V = np.zeros(shape = (n, d))\n",
    "\n",
    "    for i in range(n):\n",
    "\n",
    "\n",
    "        u = uniform.rvs()\n",
    "        y[i] = np.reciprocal(T(u))*gamma  + np.sqrt(np.reciprocal(T(u)))*x[i]\n",
    "        V[i] = T(u)\n",
    "\n",
    "    return y, V\n",
    "\n",
    "\n",
    "\n",
    "\n",
    "\n"
   ]
  },
  {
   "cell_type": "code",
   "execution_count": 4,
   "metadata": {},
   "outputs": [
    {
     "name": "stderr",
     "output_type": "stream",
     "text": [
      "C:\\Users\\User\\AppData\\Local\\Temp\\ipykernel_33628\\1160887470.py:3: FutureWarning: adjacency_matrix will return a scipy.sparse array instead of a matrix in Networkx 3.0.\n",
      "  A = np.array(nx.adjacency_matrix(G).todense())\n"
     ]
    }
   ],
   "source": [
    "\n",
    "d = 20\n",
    "G =nx.erdos_renyi_graph(d, 0.35, seed=42)\n",
    "A = np.array(nx.adjacency_matrix(G).todense())\n",
    "A[np.tril_indices(d)] = 0\n",
    "U = np.random.binomial(1,0.5,  size = (d,d))\n",
    "A = np.multiply(A, U*np.random.uniform(-0.6,-0.2, size = (d,d)) + (1-U)*np.random.uniform(0.2,0.6, size = (d,d)))\n",
    "A = A+A.T\n",
    "np.fill_diagonal(A, np.sum(np.abs(A),axis=1))\n",
    "\n",
    "A2 = A.copy()\n",
    "A2_SIGNS = np.sign(A2)\n",
    "A2 = np.power(np.abs(A2), 1.3)\n",
    "A2 = A2*A2_SIGNS\n",
    "np.fill_diagonal(A2,np.diag(A))\n",
    "np.round(A2[:,1],2)\n",
    "\n",
    "\n",
    "obs_per_graph = 100\n",
    "n = 300   \n",
    "\n",
    "gamma = np.array([0.05] * 10 + [0.1]*5 + [-0.05]*5)\n",
    "nu = [4]*5 + [5]*5 + [8]*5 + [10]*5\n",
    "groups= [0]*5 + [1]*5 + [2]*5 + [3]*5\n",
    "X1,_ = generate_gen_skew_t(np.linalg.inv(A),gamma = gamma,nu = nu, n = n)\n",
    "X2,_ = generate_gen_skew_t(np.linalg.inv(A2),gamma = gamma,nu = nu, n = n)\n",
    "X = np.vstack((X1,X2))"
   ]
  },
  {
   "cell_type": "code",
   "execution_count": 22,
   "metadata": {},
   "outputs": [
    {
     "data": {
      "text/plain": [
       "array([ 0.28575168, -0.07713899, -0.22998419, -0.07698016,  0.2306333 ,\n",
       "        0.28372652,  0.11095895, -0.1358915 , -0.30954699,  0.14903168,\n",
       "        0.0120825 ,  0.0294952 , -0.09962463,  0.09774654, -0.15089292,\n",
       "       -0.11134489, -0.23861478, -0.03900448, -0.16490128,  0.02302345])"
      ]
     },
     "execution_count": 22,
     "metadata": {},
     "output_type": "execute_result"
    }
   ],
   "source": [
    "X_s = np.random.multivariate_normal(mean = np.zeros(d),cov = np.linalg.inv(A), size=1000)\n",
    "scipy.stats.kurtosis(X_s,bias=False)"
   ]
  },
  {
   "cell_type": "code",
   "execution_count": 11,
   "metadata": {},
   "outputs": [
    {
     "name": "stderr",
     "output_type": "stream",
     "text": []
    },
    {
     "ename": "KeyboardInterrupt",
     "evalue": "",
     "output_type": "error",
     "traceback": [
      "\u001b[1;31m---------------------------------------------------------------------------\u001b[0m",
      "\u001b[1;31mKeyboardInterrupt\u001b[0m                         Traceback (most recent call last)",
      "Cell \u001b[1;32mIn [11], line 4\u001b[0m\n\u001b[0;32m      2\u001b[0m X_s \u001b[39m=\u001b[39m np\u001b[39m.\u001b[39mrandom\u001b[39m.\u001b[39mmultivariate_normal(mean \u001b[39m=\u001b[39m np\u001b[39m.\u001b[39mzeros(d),cov \u001b[39m=\u001b[39m np\u001b[39m.\u001b[39mlinalg\u001b[39m.\u001b[39minv(A), size\u001b[39m=\u001b[39m\u001b[39m20\u001b[39m)\n\u001b[0;32m      3\u001b[0m sgl_n \u001b[39m=\u001b[39m dg\u001b[39m.\u001b[39msgl( max_iter \u001b[39m=\u001b[39m \u001b[39m1000\u001b[39m, lamda \u001b[39m=\u001b[39m X_s\u001b[39m.\u001b[39mshape[\u001b[39m0\u001b[39m]\u001b[39m*\u001b[39m\u001b[39m0.05\u001b[39m, tol \u001b[39m=\u001b[39m \u001b[39m1e-6\u001b[39m)\n\u001b[1;32m----> 4\u001b[0m sgl_n\u001b[39m.\u001b[39;49mfit(X_s, lik_type\u001b[39m=\u001b[39;49m\u001b[39m\"\u001b[39;49m\u001b[39mgroup-t\u001b[39;49m\u001b[39m\"\u001b[39;49m, True_prec \u001b[39m=\u001b[39;49m [A], nu \u001b[39m=\u001b[39;49m [\u001b[39m4\u001b[39;49m]\u001b[39m*\u001b[39;49md, groups \u001b[39m=\u001b[39;49m [\u001b[39m0\u001b[39;49m]\u001b[39m*\u001b[39;49md)\n",
      "File \u001b[1;32mC:\\Users/User/Code/DyGraph\\DyGraph\\gl_admm.py:100\u001b[0m, in \u001b[0;36msgl.fit\u001b[1;34m(self, X, theta_init, lik_type, verbose, True_prec, **kwargs)\u001b[0m\n\u001b[0;32m     94\u001b[0m     warnings\u001b[39m.\u001b[39mwarn(\u001b[39m\"\u001b[39m\u001b[39mObservations per graph estimation not divisiable by total number of observations. Last observations not used.\u001b[39m\u001b[39m\"\u001b[39m)\n\u001b[0;32m     95\u001b[0m \u001b[39mwhile\u001b[39;00m \u001b[39mself\u001b[39m\u001b[39m.\u001b[39miteration \u001b[39m<\u001b[39m \u001b[39mself\u001b[39m\u001b[39m.\u001b[39mmax_iter:\n\u001b[0;32m     96\u001b[0m \n\u001b[0;32m     97\u001b[0m    \n\u001b[0;32m     98\u001b[0m     \u001b[39m# update theta in parallel\u001b[39;00m\n\u001b[1;32m--> 100\u001b[0m     \u001b[39mself\u001b[39m\u001b[39m.\u001b[39mtheta[\u001b[39m0\u001b[39m], \u001b[39mself\u001b[39m\u001b[39m.\u001b[39mgamma[\u001b[39m0\u001b[39m], _ \u001b[39m=\u001b[39m theta_update(\u001b[39m0\u001b[39;49m,\n\u001b[0;32m    101\u001b[0m                                         \u001b[39mself\u001b[39;49m\u001b[39m.\u001b[39;49mget_A(), \n\u001b[0;32m    102\u001b[0m                                         \u001b[39mself\u001b[39;49m\u001b[39m.\u001b[39;49mS, \n\u001b[0;32m    103\u001b[0m                                         \u001b[39mself\u001b[39;49m\u001b[39m.\u001b[39;49mobs_per_graph,\n\u001b[0;32m    104\u001b[0m                                         \u001b[39mself\u001b[39;49m\u001b[39m.\u001b[39;49mrho, \n\u001b[0;32m    105\u001b[0m                                         \u001b[39m0\u001b[39;49m,\n\u001b[0;32m    106\u001b[0m                                         \u001b[39mself\u001b[39;49m\u001b[39m.\u001b[39;49mnr_graphs,\n\u001b[0;32m    107\u001b[0m                                         \u001b[39m0\u001b[39;49m,\n\u001b[0;32m    108\u001b[0m                                         kwargs\u001b[39m.\u001b[39;49mget(\u001b[39m\"\u001b[39;49m\u001b[39mgroups\u001b[39;49m\u001b[39m\"\u001b[39;49m, \u001b[39mNone\u001b[39;49;00m),\n\u001b[0;32m    109\u001b[0m                                         lik_type,\n\u001b[0;32m    110\u001b[0m                                         X,\n\u001b[0;32m    111\u001b[0m                                         kwargs\u001b[39m.\u001b[39;49mget(\u001b[39m\"\u001b[39;49m\u001b[39mnr_em_itr\u001b[39;49m\u001b[39m\"\u001b[39;49m, \u001b[39m5\u001b[39;49m),\n\u001b[0;32m    112\u001b[0m                                         \u001b[39mself\u001b[39;49m\u001b[39m.\u001b[39;49mtheta[\u001b[39m0\u001b[39;49m],\n\u001b[0;32m    113\u001b[0m                                         \u001b[39mself\u001b[39;49m\u001b[39m.\u001b[39;49mgamma[\u001b[39m0\u001b[39;49m],\n\u001b[0;32m    114\u001b[0m                                         kwargs\u001b[39m.\u001b[39;49mget(\u001b[39m\"\u001b[39;49m\u001b[39mnu\u001b[39;49m\u001b[39m\"\u001b[39;49m, \u001b[39m4\u001b[39;49m),\n\u001b[0;32m    115\u001b[0m                                         kwargs\u001b[39m.\u001b[39;49mget(\u001b[39m\"\u001b[39;49m\u001b[39mem_tol\u001b[39;49m\u001b[39m\"\u001b[39;49m, \u001b[39m1e-4\u001b[39;49m),\n\u001b[0;32m    116\u001b[0m                                         kwargs\u001b[39m.\u001b[39;49mget(\u001b[39m\"\u001b[39;49m\u001b[39mnr_quad\u001b[39;49m\u001b[39m\"\u001b[39;49m, \u001b[39m5\u001b[39;49m) )\n\u001b[0;32m    119\u001b[0m     \u001b[39m# update dual in parallel\u001b[39;00m\n\u001b[0;32m    120\u001b[0m     \u001b[39m# update z0\u001b[39;00m\n\u001b[0;32m    121\u001b[0m     \u001b[39mself\u001b[39m\u001b[39m.\u001b[39mz0[\u001b[39m0\u001b[39m] \u001b[39m=\u001b[39m soft_threshold_odd(\u001b[39mself\u001b[39m\u001b[39m.\u001b[39mtheta[\u001b[39m0\u001b[39m]\u001b[39m+\u001b[39m\u001b[39mself\u001b[39m\u001b[39m.\u001b[39mu0[\u001b[39m0\u001b[39m], \u001b[39mself\u001b[39m\u001b[39m.\u001b[39mlamda\u001b[39m/\u001b[39m\u001b[39mself\u001b[39m\u001b[39m.\u001b[39mrho)\n",
      "File \u001b[1;32mC:\\Users/User/Code/DyGraph\\DyGraph\\dygl_utils.py:517\u001b[0m, in \u001b[0;36mtheta_update\u001b[1;34m(i, A, S, n_t, rho, rho_gamma, nr_graphs, A_gamma, groups, lik_type, X, nr_em_itr, theta_init, gamma_init, nu, em_tol, nr_quad)\u001b[0m\n\u001b[0;32m    514\u001b[0m     theta, gamma \u001b[39m=\u001b[39m inner_em( X,A, theta_init, nu, eta, gamma_init, groups \u001b[39m=\u001b[39m \u001b[39mNone\u001b[39;00m, lik_type \u001b[39m=\u001b[39m \u001b[39m\"\u001b[39m\u001b[39mt\u001b[39m\u001b[39m\"\u001b[39m, nr_itr \u001b[39m=\u001b[39m nr_em_itr, tol \u001b[39m=\u001b[39m em_tol)\n\u001b[0;32m    515\u001b[0m \u001b[39melif\u001b[39;00m lik_type \u001b[39m==\u001b[39m \u001b[39m\"\u001b[39m\u001b[39mgroup-t\u001b[39m\u001b[39m\"\u001b[39m:\n\u001b[0;32m    516\u001b[0m     \u001b[39m# print(\"group-t update\")\u001b[39;00m\n\u001b[1;32m--> 517\u001b[0m     theta, gamma \u001b[39m=\u001b[39m inner_em(X,A, theta_init, nu, eta, gamma_init, groups \u001b[39m=\u001b[39;49m groups, lik_type \u001b[39m=\u001b[39;49m \u001b[39m\"\u001b[39;49m\u001b[39mgroup-t\u001b[39;49m\u001b[39m\"\u001b[39;49m, nr_itr \u001b[39m=\u001b[39;49m nr_em_itr, tol \u001b[39m=\u001b[39;49m em_tol, nr_quad \u001b[39m=\u001b[39;49m nr_quad)\n\u001b[0;32m    518\u001b[0m \u001b[39melif\u001b[39;00m lik_type \u001b[39m==\u001b[39m \u001b[39m\"\u001b[39m\u001b[39mskew-group-t\u001b[39m\u001b[39m\"\u001b[39m:\n\u001b[0;32m    519\u001b[0m     \u001b[39m# print(\"group-t update\")\u001b[39;00m\n\u001b[0;32m    520\u001b[0m     \u001b[39mif\u001b[39;00m i \u001b[39m==\u001b[39m \u001b[39m0\u001b[39m \u001b[39mor\u001b[39;00m i \u001b[39m==\u001b[39m nr_graphs\u001b[39m-\u001b[39m\u001b[39m1\u001b[39m:\n",
      "File \u001b[1;32mC:\\Users/User/Code/DyGraph\\DyGraph\\dygl_utils.py:404\u001b[0m, in \u001b[0;36minner_em\u001b[1;34m(X, A, theta, nu, eta, gamma, A_gamma, rho_gamma, groups, lik_type, nr_itr, tol, nr_quad)\u001b[0m\n\u001b[0;32m    402\u001b[0m S \u001b[39m=\u001b[39m np\u001b[39m.\u001b[39mzeros(shape \u001b[39m=\u001b[39m (d,d))\n\u001b[0;32m    403\u001b[0m \u001b[39mfor\u001b[39;00m i \u001b[39min\u001b[39;00m \u001b[39mrange\u001b[39m(x\u001b[39m.\u001b[39mshape[\u001b[39m0\u001b[39m]):\n\u001b[1;32m--> 404\u001b[0m     S \u001b[39m+\u001b[39m\u001b[39m=\u001b[39m np\u001b[39m.\u001b[39mmultiply(np\u001b[39m.\u001b[39mouter(x[i],x[i]), D1_EM(theta_pre,x[i],nu,groups, np\u001b[39m.\u001b[39;49mzeros(d), nr_quad))\u001b[39m/\u001b[39m\u001b[39mfloat\u001b[39m(x\u001b[39m.\u001b[39mshape[\u001b[39m0\u001b[39m])\n\u001b[0;32m    405\u001b[0m \u001b[39m# M-step\u001b[39;00m\n\u001b[0;32m    406\u001b[0m theta_new\u001b[39m=\u001b[39m Gaussian_update(S, A, eta)\n",
      "File \u001b[1;32mC:\\Users/User/Code/DyGraph\\DyGraph\\dygl_utils.py:138\u001b[0m, in \u001b[0;36mD1_EM\u001b[1;34m(theta, x, nu, m, gamma, n)\u001b[0m\n\u001b[0;32m    136\u001b[0m combintaion \u001b[39m=\u001b[39m \u001b[39m'\u001b[39m\u001b[39m'\u001b[39m\u001b[39m.\u001b[39mjoin(\u001b[39msorted\u001b[39m(\u001b[39mstr\u001b[39m(m[i])\u001b[39m+\u001b[39m\u001b[39mstr\u001b[39m(m[j])))\n\u001b[0;32m    137\u001b[0m \u001b[39mif\u001b[39;00m combination_calculated[combintaion] \u001b[39mis\u001b[39;00m \u001b[39mNone\u001b[39;00m:\n\u001b[1;32m--> 138\u001b[0m     D[i,j] \u001b[39m=\u001b[39m  integrate\u001b[39m.\u001b[39;49mfixed_quad(D1_pair_integrand, \u001b[39m0\u001b[39;49m, \u001b[39m1\u001b[39;49m ,args \u001b[39m=\u001b[39;49m (S,gamma, x,nu,i,j),n \u001b[39m=\u001b[39;49m n)[\u001b[39m0\u001b[39m]\u001b[39m/\u001b[39mdenom\n\u001b[0;32m    139\u001b[0m     combination_calculated[combintaion] \u001b[39m=\u001b[39m D[i,j]\n\u001b[0;32m    140\u001b[0m \u001b[39melse\u001b[39;00m:\n",
      "File \u001b[1;32mc:\\Users\\User\\anaconda3\\envs\\DyGraph\\lib\\site-packages\\scipy\\integrate\\_quadrature.py:150\u001b[0m, in \u001b[0;36mfixed_quad\u001b[1;34m(func, a, b, args, n)\u001b[0m\n\u001b[0;32m    147\u001b[0m     \u001b[39mraise\u001b[39;00m \u001b[39mValueError\u001b[39;00m(\u001b[39m\"\u001b[39m\u001b[39mGaussian quadrature is only available for \u001b[39m\u001b[39m\"\u001b[39m\n\u001b[0;32m    148\u001b[0m                      \u001b[39m\"\u001b[39m\u001b[39mfinite limits.\u001b[39m\u001b[39m\"\u001b[39m)\n\u001b[0;32m    149\u001b[0m y \u001b[39m=\u001b[39m (b\u001b[39m-\u001b[39ma)\u001b[39m*\u001b[39m(x\u001b[39m+\u001b[39m\u001b[39m1\u001b[39m)\u001b[39m/\u001b[39m\u001b[39m2.0\u001b[39m \u001b[39m+\u001b[39m a\n\u001b[1;32m--> 150\u001b[0m \u001b[39mreturn\u001b[39;00m (b\u001b[39m-\u001b[39ma)\u001b[39m/\u001b[39m\u001b[39m2.0\u001b[39m \u001b[39m*\u001b[39m np\u001b[39m.\u001b[39msum(w\u001b[39m*\u001b[39mfunc(y, \u001b[39m*\u001b[39;49margs), axis\u001b[39m=\u001b[39m\u001b[39m-\u001b[39m\u001b[39m1\u001b[39m), \u001b[39mNone\u001b[39;00m\n",
      "File \u001b[1;32mc:\\Users\\User\\anaconda3\\envs\\DyGraph\\lib\\site-packages\\numpy\\lib\\function_base.py:2328\u001b[0m, in \u001b[0;36mvectorize.__call__\u001b[1;34m(self, *args, **kwargs)\u001b[0m\n\u001b[0;32m   2325\u001b[0m     vargs \u001b[39m=\u001b[39m [args[_i] \u001b[39mfor\u001b[39;00m _i \u001b[39min\u001b[39;00m inds]\n\u001b[0;32m   2326\u001b[0m     vargs\u001b[39m.\u001b[39mextend([kwargs[_n] \u001b[39mfor\u001b[39;00m _n \u001b[39min\u001b[39;00m names])\n\u001b[1;32m-> 2328\u001b[0m \u001b[39mreturn\u001b[39;00m \u001b[39mself\u001b[39;49m\u001b[39m.\u001b[39;49m_vectorize_call(func\u001b[39m=\u001b[39;49mfunc, args\u001b[39m=\u001b[39;49mvargs)\n",
      "File \u001b[1;32mc:\\Users\\User\\anaconda3\\envs\\DyGraph\\lib\\site-packages\\numpy\\lib\\function_base.py:2406\u001b[0m, in \u001b[0;36mvectorize._vectorize_call\u001b[1;34m(self, func, args)\u001b[0m\n\u001b[0;32m   2404\u001b[0m     res \u001b[39m=\u001b[39m func()\n\u001b[0;32m   2405\u001b[0m \u001b[39melse\u001b[39;00m:\n\u001b[1;32m-> 2406\u001b[0m     ufunc, otypes \u001b[39m=\u001b[39m \u001b[39mself\u001b[39;49m\u001b[39m.\u001b[39;49m_get_ufunc_and_otypes(func\u001b[39m=\u001b[39;49mfunc, args\u001b[39m=\u001b[39;49margs)\n\u001b[0;32m   2408\u001b[0m     \u001b[39m# Convert args to object arrays first\u001b[39;00m\n\u001b[0;32m   2409\u001b[0m     inputs \u001b[39m=\u001b[39m [asanyarray(a, dtype\u001b[39m=\u001b[39m\u001b[39mobject\u001b[39m) \u001b[39mfor\u001b[39;00m a \u001b[39min\u001b[39;00m args]\n",
      "File \u001b[1;32mc:\\Users\\User\\anaconda3\\envs\\DyGraph\\lib\\site-packages\\numpy\\lib\\function_base.py:2366\u001b[0m, in \u001b[0;36mvectorize._get_ufunc_and_otypes\u001b[1;34m(self, func, args)\u001b[0m\n\u001b[0;32m   2362\u001b[0m     \u001b[39mraise\u001b[39;00m \u001b[39mValueError\u001b[39;00m(\u001b[39m'\u001b[39m\u001b[39mcannot call `vectorize` on size 0 inputs \u001b[39m\u001b[39m'\u001b[39m\n\u001b[0;32m   2363\u001b[0m                      \u001b[39m'\u001b[39m\u001b[39munless `otypes` is set\u001b[39m\u001b[39m'\u001b[39m)\n\u001b[0;32m   2365\u001b[0m inputs \u001b[39m=\u001b[39m [arg\u001b[39m.\u001b[39mflat[\u001b[39m0\u001b[39m] \u001b[39mfor\u001b[39;00m arg \u001b[39min\u001b[39;00m args]\n\u001b[1;32m-> 2366\u001b[0m outputs \u001b[39m=\u001b[39m func(\u001b[39m*\u001b[39;49minputs)\n\u001b[0;32m   2368\u001b[0m \u001b[39m# Performance note: profiling indicates that -- for simple\u001b[39;00m\n\u001b[0;32m   2369\u001b[0m \u001b[39m# functions at least -- this wrapping can almost double the\u001b[39;00m\n\u001b[0;32m   2370\u001b[0m \u001b[39m# execution time.\u001b[39;00m\n\u001b[0;32m   2371\u001b[0m \u001b[39m# Hence we make it optional.\u001b[39;00m\n\u001b[0;32m   2372\u001b[0m \u001b[39mif\u001b[39;00m \u001b[39mself\u001b[39m\u001b[39m.\u001b[39mcache:\n",
      "File \u001b[1;32mc:\\Users\\User\\anaconda3\\envs\\DyGraph\\lib\\site-packages\\numpy\\lib\\function_base.py:2323\u001b[0m, in \u001b[0;36mvectorize.__call__.<locals>.func\u001b[1;34m(*vargs)\u001b[0m\n\u001b[0;32m   2321\u001b[0m     the_args[_i] \u001b[39m=\u001b[39m vargs[_n]\n\u001b[0;32m   2322\u001b[0m kwargs\u001b[39m.\u001b[39mupdate(\u001b[39mzip\u001b[39m(names, vargs[\u001b[39mlen\u001b[39m(inds):]))\n\u001b[1;32m-> 2323\u001b[0m \u001b[39mreturn\u001b[39;00m \u001b[39mself\u001b[39m\u001b[39m.\u001b[39mpyfunc(\u001b[39m*\u001b[39mthe_args, \u001b[39m*\u001b[39m\u001b[39m*\u001b[39mkwargs)\n",
      "File \u001b[1;32mC:\\Users/User/Code/DyGraph\\DyGraph\\dygl_utils.py:93\u001b[0m, in \u001b[0;36mD1_pair_integrand\u001b[1;34m(u, S, gamma, x, nu, i, j)\u001b[0m\n\u001b[0;32m     66\u001b[0m \u001b[39mdef\u001b[39;00m \u001b[39mD1_pair_integrand\u001b[39m(u,S,gamma,x,nu,i,j):\n\u001b[0;32m     67\u001b[0m     \u001b[39m\"\"\"\u001b[39;00m\n\u001b[0;32m     68\u001b[0m \u001b[39m    Integrand for element (i,j) in the matrix D_1 as defined in paper. Used by Group-T and generalized skew-T\u001b[39;00m\n\u001b[0;32m     69\u001b[0m \n\u001b[1;32m   (...)\u001b[0m\n\u001b[0;32m     88\u001b[0m \u001b[39m        Integrand value\u001b[39;00m\n\u001b[0;32m     89\u001b[0m \u001b[39m    \"\"\"\u001b[39;00m\n\u001b[1;32m---> 93\u001b[0m     T_vec \u001b[39m=\u001b[39m _T(u,nu)\n\u001b[0;32m     94\u001b[0m     a \u001b[39m=\u001b[39m np\u001b[39m.\u001b[39msqrt(np\u001b[39m.\u001b[39mreciprocal(T_vec))\n\u001b[0;32m     95\u001b[0m     cov \u001b[39m=\u001b[39m np\u001b[39m.\u001b[39mmultiply(S, np\u001b[39m.\u001b[39mouter(a,a))\n",
      "File \u001b[1;32mC:\\Users/User/Code/DyGraph\\DyGraph\\dygl_utils.py:29\u001b[0m, in \u001b[0;36m_T\u001b[1;34m(u, nu)\u001b[0m\n\u001b[0;32m     13\u001b[0m \u001b[39mdef\u001b[39;00m \u001b[39m_T\u001b[39m(u,nu):\n\u001b[0;32m     14\u001b[0m     \u001b[39m\"\"\"\u001b[39;00m\n\u001b[0;32m     15\u001b[0m \u001b[39m    Function to calcualte the generalized skew-t weights\u001b[39;00m\n\u001b[0;32m     16\u001b[0m \n\u001b[1;32m   (...)\u001b[0m\n\u001b[0;32m     27\u001b[0m \u001b[39m        Array with possible weights/hidden RV.\u001b[39;00m\n\u001b[0;32m     28\u001b[0m \u001b[39m    \"\"\"\u001b[39;00m\n\u001b[1;32m---> 29\u001b[0m     \u001b[39mreturn\u001b[39;00m np\u001b[39m.\u001b[39marray([chi2\u001b[39m.\u001b[39mppf(u, df \u001b[39m=\u001b[39m nu[i])\u001b[39m/\u001b[39mnu[i] \u001b[39mfor\u001b[39;00m i \u001b[39min\u001b[39;00m \u001b[39mrange\u001b[39m(\u001b[39mlen\u001b[39m(nu))])\n",
      "File \u001b[1;32mC:\\Users/User/Code/DyGraph\\DyGraph\\dygl_utils.py:29\u001b[0m, in \u001b[0;36m<listcomp>\u001b[1;34m(.0)\u001b[0m\n\u001b[0;32m     13\u001b[0m \u001b[39mdef\u001b[39;00m \u001b[39m_T\u001b[39m(u,nu):\n\u001b[0;32m     14\u001b[0m     \u001b[39m\"\"\"\u001b[39;00m\n\u001b[0;32m     15\u001b[0m \u001b[39m    Function to calcualte the generalized skew-t weights\u001b[39;00m\n\u001b[0;32m     16\u001b[0m \n\u001b[1;32m   (...)\u001b[0m\n\u001b[0;32m     27\u001b[0m \u001b[39m        Array with possible weights/hidden RV.\u001b[39;00m\n\u001b[0;32m     28\u001b[0m \u001b[39m    \"\"\"\u001b[39;00m\n\u001b[1;32m---> 29\u001b[0m     \u001b[39mreturn\u001b[39;00m np\u001b[39m.\u001b[39marray([chi2\u001b[39m.\u001b[39;49mppf(u, df \u001b[39m=\u001b[39;49m nu[i])\u001b[39m/\u001b[39mnu[i] \u001b[39mfor\u001b[39;00m i \u001b[39min\u001b[39;00m \u001b[39mrange\u001b[39m(\u001b[39mlen\u001b[39m(nu))])\n",
      "File \u001b[1;32mc:\\Users\\User\\anaconda3\\envs\\DyGraph\\lib\\site-packages\\scipy\\stats\\_distn_infrastructure.py:2351\u001b[0m, in \u001b[0;36mrv_continuous.ppf\u001b[1;34m(self, q, *args, **kwds)\u001b[0m\n\u001b[0;32m   2349\u001b[0m     goodargs \u001b[39m=\u001b[39m argsreduce(cond, \u001b[39m*\u001b[39m((q,)\u001b[39m+\u001b[39margs\u001b[39m+\u001b[39m(scale, loc)))\n\u001b[0;32m   2350\u001b[0m     scale, loc, goodargs \u001b[39m=\u001b[39m goodargs[\u001b[39m-\u001b[39m\u001b[39m2\u001b[39m], goodargs[\u001b[39m-\u001b[39m\u001b[39m1\u001b[39m], goodargs[:\u001b[39m-\u001b[39m\u001b[39m2\u001b[39m]\n\u001b[1;32m-> 2351\u001b[0m     place(output, cond, \u001b[39mself\u001b[39;49m\u001b[39m.\u001b[39;49m_ppf(\u001b[39m*\u001b[39;49mgoodargs) \u001b[39m*\u001b[39;49m scale \u001b[39m+\u001b[39;49m loc)\n\u001b[0;32m   2352\u001b[0m \u001b[39mif\u001b[39;00m output\u001b[39m.\u001b[39mndim \u001b[39m==\u001b[39m \u001b[39m0\u001b[39m:\n\u001b[0;32m   2353\u001b[0m     \u001b[39mreturn\u001b[39;00m output[()]\n",
      "File \u001b[1;32m<__array_function__ internals>:177\u001b[0m, in \u001b[0;36mplace\u001b[1;34m(*args, **kwargs)\u001b[0m\n",
      "\u001b[1;31mKeyboardInterrupt\u001b[0m: "
     ]
    }
   ],
   "source": [
    "# static test\n",
    "X_s = np.random.multivariate_normal(mean = np.zeros(d),cov = np.linalg.inv(A), size=20)\n",
    "sgl_n = dg.sgl( max_iter = 1000, lamda = X_s.shape[0]*0.05, tol = 1e-6)\n",
    "# sgl_n.fit(X_s, lik_type=\"group-t\", True_prec = [A], nu = [4]*d, groups = [0]*d)\n"
   ]
  },
  {
   "cell_type": "code",
   "execution_count": 5,
   "metadata": {},
   "outputs": [
    {
     "name": "stderr",
     "output_type": "stream",
     "text": [
      "Error 1.88E-5, F 3.341E-1: 100%|█████████▉| 999/1000 [00:04<00:00, 304.04it/s]C:\\Users/User/Code/DyGraph\\DyGraph\\dygl_parallel.py:263: UserWarning: Max iterations reached.\n",
      "  warnings.warn(\"Max iterations reached.\")\n",
      "Error 1.88E-5, F 3.341E-1: 100%|██████████| 1000/1000 [00:04<00:00, 216.17it/s]\n"
     ]
    }
   ],
   "source": [
    "dg_opt_t = dg.dygl(obs_per_graph = obs_per_graph, max_iter = 1000, lamda = obs_per_graph*0.05, kappa = obs_per_graph*0.1, kappa_gamma=obs_per_graph*0.1, tol = 1e-6)\n",
    "dg_opt_t.fit(X, nr_workers=6, temporal_penalty=\"element-wise\", lik_type=\"t\", True_prec = [A,A,A,A2,A2,A2], time_index=range(X.shape[0]), nu = 4)"
   ]
  },
  {
   "cell_type": "code",
   "execution_count": 6,
   "metadata": {},
   "outputs": [
    {
     "data": {
      "text/plain": [
       "0.8190813951605551"
      ]
     },
     "execution_count": 6,
     "metadata": {},
     "output_type": "execute_result"
    }
   ],
   "source": [
    "True_prec = [A,A,A,A2,A2,A2]\n",
    "np.mean([utils.calc_f1(True_prec[k], dg_opt_t.theta[k]) for k in range(len(True_prec))])"
   ]
  },
  {
   "cell_type": "code",
   "execution_count": 31,
   "metadata": {},
   "outputs": [
    {
     "name": "stderr",
     "output_type": "stream",
     "text": [
      "Error 2.58E-1, F 3.272E-1:  55%|█████▌    | 11/20 [1:23:26<1:05:00, 433.39s/it]"
     ]
    }
   ],
   "source": [
    "dg_opt1 = dg.dygl(obs_per_graph = obs_per_graph, max_iter = 20, lamda = obs_per_graph*0.05, kappa = obs_per_graph*0.1, kappa_gamma=obs_per_graph*0.1, tol = 1e-6)\n",
    "dg_opt1.fit(X, nr_workers=6, temporal_penalty=\"element-wise\", theta_init = dg_opt_t.theta.copy(), lik_type=\"skew-group-t\", True_prec = [A,A,A,A2,A2,A2], time_index=range(X.shape[0]), nu = nu, groups = groups,nr_quad = 5)"
   ]
  },
  {
   "cell_type": "code",
   "execution_count": 8,
   "metadata": {},
   "outputs": [
    {
     "data": {
      "text/plain": [
       "array([[-0.03,  0.06,  0.06,  0.1 ,  0.02,  0.03,  0.09, -0.04,  0.06,\n",
       "         0.08,  0.08,  0.18,  0.04,  0.06,  0.05,  0.01, -0.07, -0.08,\n",
       "        -0.06,  0.  ],\n",
       "       [-0.04,  0.09,  0.09,  0.07,  0.04,  0.05, -0.  ,  0.05, -0.02,\n",
       "        -0.02,  0.13,  0.06,  0.04,  0.04,  0.08, -0.06, -0.07, -0.17,\n",
       "         0.  , -0.14],\n",
       "       [ 0.05,  0.03,  0.03,  0.01,  0.01, -0.02,  0.09, -0.02,  0.07,\n",
       "         0.01,  0.02,  0.06, -0.  ,  0.  ,  0.05,  0.02, -0.03, -0.09,\n",
       "        -0.1 , -0.06],\n",
       "       [ 0.07,  0.06,  0.05,  0.08,  0.07, -0.02,  0.09,  0.01,  0.04,\n",
       "         0.05,  0.11,  0.04,  0.11,  0.12,  0.01,  0.03, -0.05,  0.05,\n",
       "        -0.1 , -0.03],\n",
       "       [-0.01,  0.  ,  0.03, -0.03,  0.13,  0.03,  0.05,  0.04, -0.04,\n",
       "         0.1 ,  0.01,  0.08,  0.09,  0.1 ,  0.07,  0.02, -0.03, -0.04,\n",
       "        -0.06, -0.03],\n",
       "       [ 0.05,  0.06,  0.04,  0.16, -0.04,  0.03,  0.08,  0.05,  0.08,\n",
       "         0.09,  0.05,  0.13,  0.09,  0.12,  0.11, -0.01, -0.08,  0.01,\n",
       "        -0.11, -0.08]])"
      ]
     },
     "execution_count": 8,
     "metadata": {},
     "output_type": "execute_result"
    }
   ],
   "source": [
    "True_prec = [A,A,A,A2,A2,A2]\n",
    "np.mean([utils.calc_f1(True_prec[k], dg_opt1.theta[k]) for k in range(len(True_prec))])"
   ]
  },
  {
   "cell_type": "code",
   "execution_count": 7,
   "metadata": {},
   "outputs": [
    {
     "name": "stderr",
     "output_type": "stream",
     "text": [
      "Error 1.32E-4, F 4.406E-1: 100%|██████████| 100/100 [3:16:03<00:00, 30.75s/it]  C:\\Users/User/Code/DyGraph\\DyGraph\\dygl_parallel.py:287: UserWarning: Max iterations reached.\n",
      "  warnings.warn(\"Max iterations reached.\")\n",
      "Error 1.32E-4, F 4.406E-1: 100%|██████████| 100/100 [3:16:03<00:00, 117.63s/it]\n"
     ]
    }
   ],
   "source": [
    "dg_opt2 = dg.dygl(obs_per_graph = obs_per_graph, max_iter = 100, lamda = obs_per_graph*0.1, kappa = obs_per_graph*0.1, kappa_gamma=obs_per_graph*0.1, tol = 1e-6)\n",
    "dg_opt2.fit(X, nr_workers=2, temporal_penalty=\"element-wise\", theta_init = dg_opt_t.theta.copy(), lik_type=\"group-t\", True_prec = [A]*2, time_index=range(X.shape[0]), nu = nu, groups = groups,nr_quad = 10)"
   ]
  },
  {
   "cell_type": "code",
   "execution_count": 12,
   "metadata": {},
   "outputs": [
    {
     "name": "stdout",
     "output_type": "stream",
     "text": [
      "0.7766039051603905\n",
      "0.7765438125457652\n",
      "0.7866769547325103\n"
     ]
    }
   ],
   "source": [
    "from utils import calc_f1\n",
    "f1_t = np.mean([calc_f1(A, dg_opt_t.theta[k]) for k in range(len(dg_opt_t.theta))])\n",
    "f1_gt = np.mean([calc_f1(A, dg_opt1.theta[k]) for k in range(len(dg_opt1.theta))])\n",
    "f1_gt2 = np.mean([calc_f1(A, dg_opt2.theta[k]) for k in range(len(dg_opt2.theta))])\n",
    "print(f1_t)\n",
    "print(f1_gt)\n",
    "print(f1_gt2)"
   ]
  },
  {
   "cell_type": "code",
   "execution_count": 23,
   "metadata": {},
   "outputs": [
    {
     "name": "stdout",
     "output_type": "stream",
     "text": [
      "0.14082924034283212\n",
      "0.11105880663698495\n"
     ]
    }
   ],
   "source": [
    "\n",
    "F_t = np.mean([scipy.linalg.norm(A-dg_opt_t.theta[k], ord = 'fro')/scipy.linalg.norm(A, ord = 'fro') for k in range(len(dg_opt_t.theta))])\n",
    "F_gt = np.mean([scipy.linalg.norm(A-dg_opt1.theta[k], ord = 'fro')/scipy.linalg.norm(A, ord = 'fro') for k in range(len(dg_opt1.theta))])\n",
    "print(F_t)\n",
    "print(F_gt)"
   ]
  },
  {
   "cell_type": "code",
   "execution_count": 104,
   "metadata": {},
   "outputs": [
    {
     "name": "stderr",
     "output_type": "stream",
     "text": [
      "Error 1.30E-6 [-0.08  0.06 -0.05 -0.02] [-0.08  0.08 -0.01 -0.02]: 100%|██████████| 500/500 [14:41<00:00,  1.76s/it]\n"
     ]
    }
   ],
   "source": [
    "from decimal import Decimal\n",
    "n_t = 100\n",
    "nr_graphs = int(n/n_t)\n",
    "\n",
    "u0 = np.zeros((nr_graphs, X.shape[1], X.shape[1]))\n",
    "u1 = np.zeros((nr_graphs, X.shape[1], X.shape[1]))\n",
    "u2 = np.zeros((nr_graphs, X.shape[1], X.shape[1]))\n",
    "\n",
    "u1_g = np.zeros((nr_graphs, X.shape[1]))\n",
    "# u1_g[-1] = np.zeros(X.shape[1])\n",
    "u2_g = np.zeros((nr_graphs, X.shape[1]))\n",
    "#u2_g[0] = np.zeros(X.shape[1])\n",
    "\n",
    "z0 = np.ones((nr_graphs, X.shape[1], X.shape[1]))\n",
    "z1 =   np.zeros((nr_graphs, X.shape[1], X.shape[1]))\n",
    "z2 = np.zeros((nr_graphs, X.shape[1], X.shape[1]))\n",
    "\n",
    "z1_g =   np.zeros((nr_graphs, X.shape[1]))\n",
    "z2_g = np.zeros((nr_graphs, X.shape[1]))\n",
    "\n",
    "theta = np.array([np.identity(X.shape[1]) for _ in range(nr_graphs) ])\n",
    "gamma_est = 0*np.ones(shape = (nr_graphs,X.shape[1]))\n",
    "\n",
    "thetas_pre = theta.copy()\n",
    "\n",
    "\n",
    "def get_A(i):\n",
    "    if i == 0 or i == nr_graphs-1:\n",
    "        A = (z0[i] + z1[i] + z2[i] - u0[i] - u1[i] - u2[i])/2.0\n",
    "    else:\n",
    "        A = (z0[i] + z1[i] + z2[i] - u0[i] - u1[i] - u2[i])/3.0\n",
    "    return A\n",
    "\n",
    "def get_A_gamma(i):\n",
    "    return  z1_g[i] + z2_g[i] - u1_g[i] - u2_g[i]\n",
    "\n",
    "\n",
    "kappa = 0.3*n_t\n",
    "lamda = 0.05*n_t\n",
    "rho = n_t\n",
    "rho_gamma = n_t\n",
    "kappa_gamma =0.3*rho_gamma\n",
    "\n",
    "nr_its = 10\n",
    "\n",
    "pbar = tqdm.tqdm(total = nr_its)\n",
    "\n",
    "iteration=0\n",
    "while iteration < nr_its:\n",
    "    \n",
    "\n",
    "    for i in range(nr_graphs):\n",
    "        if (i == nr_graphs-1) or (i == 0):\n",
    "            eta = n_t/rho/2.0\n",
    "        else:\n",
    "            eta = n_t/rho/3.0\n",
    "        theta[i], gamma_est[i], G1,G2 = em_iteration(X[n_t*i:(i+1)*n_t], get_A(i), get_A_gamma(i), theta[i].copy(),nu, rho_gamma, eta, gamma_est[i].copy(), groups, n = 10, yes = True)\n",
    "    \n",
    "    for i in range(nr_graphs):\n",
    "        z0[i] = soft_threshold_odd(theta[i]+u0[i], lamda/rho)\n",
    "        np.fill_diagonal(z0[i], np.diag(theta[i]+u0[i]))\n",
    "\n",
    "    # update z1, z2\n",
    "    for i in range(1,nr_graphs):\n",
    "        A = theta[i]-theta[i-1]+u2[i]-u1[i-1]\n",
    "        E = soft_threshold_odd(A, 2*kappa/rho)\n",
    "        summ = 0.5*(theta[i]+theta[i-1]+u1[i-1]+u2[i])\n",
    "        z1[i-1] = summ - 0.5*E\n",
    "        z2[i] = summ + 0.5*E\n",
    "\n",
    "        A_gamma = gamma_est[i]-gamma_est[i-1]+u2_g[i]-u1_g[i-1]\n",
    "        E = soft_threshold_odd(A_gamma, 2*kappa_gamma/rho_gamma)\n",
    "        summ = 0.5*(gamma_est[i]+gamma_est[i-1]+u1_g[i-1]+u2_g[i])\n",
    "        z1_g[i-1] = summ - 0.5*E\n",
    "        z2_g[i] = summ + 0.5*E\n",
    "\n",
    "    u0 = u0 + theta - z0\n",
    "    u1[:(nr_graphs-1)] = u1[:(nr_graphs-1)] + theta[:(nr_graphs-1)]-z1[:(nr_graphs-1)]\n",
    "    u2[1:] = u2[1:] + theta[1:] - z2[1:]\n",
    "\n",
    "    u1_g[:(nr_graphs-1)] = u1_g[:(nr_graphs-1)] + gamma_est[:(nr_graphs-1)]-z1_g[:(nr_graphs-1)]\n",
    "    u2_g[1:] = u2_g[1:] + gamma_est[1:] - z2_g[1:]\n",
    "\n",
    "\n",
    "    fro_norm = 0.0\n",
    "    for i in range(nr_graphs):\n",
    "        dif = theta[i] - thetas_pre[i]\n",
    "        fro_norm += np.linalg.norm(dif)\n",
    "\n",
    "\n",
    "    pbar.set_description(f\"Error {Decimal(fro_norm):.2E} {np.round(gamma_est[0],2)} {np.round(gamma_est[1],2)}\")\n",
    "    pbar.update()\n",
    "\n",
    "    thetas_pre = theta.copy()\n",
    "\n",
    "\n",
    "    iteration+= 1\n",
    "\n",
    "pbar.close()\n",
    "\n"
   ]
  },
  {
   "cell_type": "code",
   "execution_count": 96,
   "metadata": {},
   "outputs": [
    {
     "name": "stderr",
     "output_type": "stream",
     "text": [
      "Error 1.05E-6 [-0.04 -0.   -0.1  -0.12] [-0.12  0.14  0.05  0.07]: 100%|██████████| 500/500 [14:46<00:00,  1.77s/it]\n"
     ]
    }
   ],
   "source": [
    "from decimal import Decimal\n",
    "n_t = 25\n",
    "nr_graphs = int(n/n_t)\n",
    "\n",
    "u0 = np.zeros((nr_graphs, X.shape[1], X.shape[1]))\n",
    "u1 = np.zeros((nr_graphs, X.shape[1], X.shape[1]))\n",
    "u2 = np.zeros((nr_graphs, X.shape[1], X.shape[1]))\n",
    "\n",
    "u1_g = np.zeros((nr_graphs, X.shape[1]))\n",
    "# u1_g[-1] = np.zeros(X.shape[1])\n",
    "u2_g = np.zeros((nr_graphs, X.shape[1]))\n",
    "#u2_g[0] = np.zeros(X.shape[1])\n",
    "\n",
    "z0 = np.ones((nr_graphs, X.shape[1], X.shape[1]))\n",
    "z1 =   np.zeros((nr_graphs, X.shape[1], X.shape[1]))\n",
    "z2 = np.zeros((nr_graphs, X.shape[1], X.shape[1]))\n",
    "\n",
    "z1_g =   np.zeros((nr_graphs, X.shape[1]))\n",
    "z2_g = np.zeros((nr_graphs, X.shape[1]))\n",
    "\n",
    "theta = np.array([np.identity(X.shape[1]) for _ in range(nr_graphs) ])\n",
    "gamma_est = 0*np.ones(shape = (nr_graphs,X.shape[1]))\n",
    "\n",
    "\n",
    "thetas_pre = theta.copy()\n",
    "def get_A(i):\n",
    "    if i == 0 or i == nr_graphs-1:\n",
    "        A = (z0[i] + z1[i] + z2[i] - u0[i] - u1[i] - u2[i])/2.0\n",
    "    else:\n",
    "        A = (z0[i] + z1[i] + z2[i] - u0[i] - u1[i] - u2[i])/3.0\n",
    "    return A\n",
    "\n",
    "def get_A_gamma(i):\n",
    "\n",
    "\n",
    "    return  z1_g[i] + z2_g[i] - u1_g[i] - u2_g[i]\n",
    "\n",
    "\n",
    "kappa = 0.3*n_t\n",
    "lamda = 0.05*n_t\n",
    "rho =n_t\n",
    "rho_gamma = 1\n",
    "kappa_gamma =0.3*rho_gamma\n",
    "\n",
    "nr_its = 500\n",
    "\n",
    "pbar = tqdm.tqdm(total = nr_its)\n",
    "\n",
    "iteration=0\n",
    "while iteration < nr_its:\n",
    "    \n",
    "\n",
    "    for i in range(nr_graphs):\n",
    "        if (i == nr_graphs-1) or (i == 0):\n",
    "            eta = n_t/rho/2.0\n",
    "        else:\n",
    "            eta = n_t/rho/3.0\n",
    "        theta[i], gamma_est[i], G1,G2 = em_iteration(X[n_t*i:(i+1)*n_t], get_A(i), get_A_gamma(i), theta[i].copy(),nu, rho_gamma, eta, gamma_est[i].copy(), groups, n = 5, yes = False)\n",
    "    \n",
    "    for i in range(nr_graphs):\n",
    "        z0[i] = soft_threshold_odd(theta[i]+u0[i], lamda/rho)\n",
    "        np.fill_diagonal(z0[i], np.diag(theta[i]+u0[i]))\n",
    "\n",
    "    # update z1, z2\n",
    "    for i in range(1,nr_graphs):\n",
    "        A = theta[i]-theta[i-1]+u2[i]-u1[i-1]\n",
    "        E = soft_threshold_odd(A, 2*kappa/rho)\n",
    "        summ = 0.5*(theta[i]+theta[i-1]+u1[i-1]+u2[i])\n",
    "        z1[i-1] = summ - 0.5*E\n",
    "        z2[i] = summ + 0.5*E\n",
    "\n",
    "        A_gamma = gamma_est[i]-gamma_est[i-1]+u2_g[i]-u1_g[i-1]\n",
    "        E = soft_threshold_odd(A_gamma, 2*kappa_gamma/rho_gamma)\n",
    "        summ = 0.5*(gamma_est[i]+gamma_est[i-1]+u1_g[i-1]+u2_g[i])\n",
    "        z1_g[i-1] = summ - 0.5*E\n",
    "        z2_g[i] = summ + 0.5*E\n",
    "\n",
    "    u0 = u0 + theta - z0\n",
    "    u1[:(nr_graphs-1)] = u1[:(nr_graphs-1)] + theta[:(nr_graphs-1)]-z1[:(nr_graphs-1)]\n",
    "    u2[1:] = u2[1:] + theta[1:] - z2[1:]\n",
    "\n",
    "    u1_g[:(nr_graphs-1)] = u1_g[:(nr_graphs-1)] + gamma_est[:(nr_graphs-1)]-z1_g[:(nr_graphs-1)]\n",
    "    u2_g[1:] = u2_g[1:] + gamma_est[1:] - z2_g[1:]\n",
    "\n",
    "\n",
    "    fro_norm = 0.0\n",
    "    for i in range(nr_graphs):\n",
    "        dif = theta[i] - thetas_pre[i]\n",
    "        fro_norm += np.linalg.norm(dif)\n",
    "\n",
    "\n",
    "    pbar.set_description(f\"Error {Decimal(fro_norm):.2E} {np.round(gamma_est[0],2)} {np.round(gamma_est[1],2)}\")\n",
    "    pbar.update()\n",
    "\n",
    "    thetas_pre = theta.copy()\n",
    "\n",
    "\n",
    "    iteration+= 1\n",
    "\n",
    "pbar.close()\n",
    "\n"
   ]
  },
  {
   "cell_type": "code",
   "execution_count": 103,
   "metadata": {},
   "outputs": [],
   "source": [
    "pbar.close()"
   ]
  },
  {
   "cell_type": "code",
   "execution_count": 89,
   "metadata": {},
   "outputs": [
    {
     "name": "stdout",
     "output_type": "stream",
     "text": [
      "[[ 1.52 -0.   -1.32  0.21]\n",
      " [-0.    2.62  0.   -0.05]\n",
      " [-1.32  0.    2.19 -0.31]\n",
      " [ 0.21 -0.05 -0.31  1.32]]\n",
      "[-0.04 -0.   -0.11 -0.13]\n"
     ]
    }
   ],
   "source": [
    "print(np.round(theta[0],2))\n",
    "print(np.round(gamma_est[0],2))"
   ]
  },
  {
   "cell_type": "code",
   "execution_count": 22,
   "metadata": {},
   "outputs": [
    {
     "name": "stdout",
     "output_type": "stream",
     "text": [
      "[[ 0.37 -0.24 -0.09  0.25]\n",
      " [-0.24  0.53  0.37 -0.17]\n",
      " [-0.09  0.37  0.34 -0.13]\n",
      " [ 0.25 -0.17 -0.13  0.61]]\n",
      "[ 4.17  3.57 -8.16  1.8 ]\n"
     ]
    }
   ],
   "source": [
    "print(np.round(theta[1],2))\n",
    "print(np.round(gamma_est[1],2))"
   ]
  },
  {
   "cell_type": "code",
   "execution_count": 137,
   "metadata": {},
   "outputs": [
    {
     "ename": "IndexError",
     "evalue": "index 4 is out of bounds for axis 0 with size 2",
     "output_type": "error",
     "traceback": [
      "\u001b[1;31m---------------------------------------------------------------------------\u001b[0m",
      "\u001b[1;31mIndexError\u001b[0m                                Traceback (most recent call last)",
      "Cell \u001b[1;32mIn [137], line 1\u001b[0m\n\u001b[1;32m----> 1\u001b[0m \u001b[39mprint\u001b[39m(np\u001b[39m.\u001b[39mround(theta[\u001b[39m4\u001b[39;49m],\u001b[39m2\u001b[39m))\n\u001b[0;32m      2\u001b[0m \u001b[39mprint\u001b[39m(np\u001b[39m.\u001b[39mround(gamma_est[\u001b[39m4\u001b[39m],\u001b[39m2\u001b[39m))\n",
      "\u001b[1;31mIndexError\u001b[0m: index 4 is out of bounds for axis 0 with size 2"
     ]
    }
   ],
   "source": [
    "print(np.round(theta[4],2))\n",
    "print(np.round(gamma_est[4],2))"
   ]
  },
  {
   "cell_type": "code",
   "execution_count": 52,
   "metadata": {},
   "outputs": [
    {
     "data": {
      "text/plain": [
       "array([[ 1.51515152,  0.        , -1.06060606,  0.55151515],\n",
       "       [ 0.        ,  2.5       ,  0.        ,  0.        ],\n",
       "       [-1.06060606,  0.        ,  2.24242424, -0.60606061],\n",
       "       [ 0.55151515,  0.        , -0.60606061,  1.51515152]])"
      ]
     },
     "execution_count": 52,
     "metadata": {},
     "output_type": "execute_result"
    }
   ],
   "source": [
    "prec_1"
   ]
  },
  {
   "attachments": {},
   "cell_type": "markdown",
   "metadata": {},
   "source": [
    "only EM for Gamma"
   ]
  },
  {
   "cell_type": "code",
   "execution_count": 370,
   "metadata": {},
   "outputs": [
    {
     "name": "stderr",
     "output_type": "stream",
     "text": [
      "Error 1.97E+0:   0%|          | 4/1000 [00:57<3:56:34, 14.25s/it]\n"
     ]
    },
    {
     "ename": "KeyboardInterrupt",
     "evalue": "",
     "output_type": "error",
     "traceback": [
      "\u001b[1;31m---------------------------------------------------------------------------\u001b[0m",
      "\u001b[1;31mKeyboardInterrupt\u001b[0m                         Traceback (most recent call last)",
      "Cell \u001b[1;32mIn [370], line 36\u001b[0m\n\u001b[0;32m     34\u001b[0m     \u001b[39melse\u001b[39;00m:\n\u001b[0;32m     35\u001b[0m         eta \u001b[39m=\u001b[39m n_t\u001b[39m/\u001b[39mrho\u001b[39m/\u001b[39m\u001b[39m3.0\u001b[39m\n\u001b[1;32m---> 36\u001b[0m     _, gamma_est[i] \u001b[39m=\u001b[39m em_iteration(X[n_t\u001b[39m*\u001b[39;49mi:(i\u001b[39m+\u001b[39;49m\u001b[39m1\u001b[39;49m)\u001b[39m*\u001b[39;49mn_t], get_A(i),theta[i],nu, rho, eta, gamma_est[i], groups, n \u001b[39m=\u001b[39;49m \u001b[39m5\u001b[39;49m)\n\u001b[0;32m     39\u001b[0m pbar\u001b[39m.\u001b[39mset_description(\u001b[39mf\u001b[39m\u001b[39m\"\u001b[39m\u001b[39mError \u001b[39m\u001b[39m{\u001b[39;00mDecimal(fro_norm)\u001b[39m:\u001b[39;00m\u001b[39m.2E\u001b[39m\u001b[39m}\u001b[39;00m\u001b[39m\"\u001b[39m)\n\u001b[0;32m     40\u001b[0m pbar\u001b[39m.\u001b[39mupdate()\n",
      "Cell \u001b[1;32mIn [365], line 28\u001b[0m, in \u001b[0;36mem_iteration\u001b[1;34m(X, A, theta_init, nu, rho, eta, gamma, groups, n, tol)\u001b[0m\n\u001b[0;32m     25\u001b[0m \u001b[39mfor\u001b[39;00m i \u001b[39min\u001b[39;00m \u001b[39mrange\u001b[39m(x\u001b[39m.\u001b[39mshape[\u001b[39m0\u001b[39m]):\n\u001b[0;32m     26\u001b[0m     \u001b[39m# print(i)\u001b[39;00m\n\u001b[0;32m     27\u001b[0m     D_1 \u001b[39m=\u001b[39m EM_matrix_update(theta_init,x[i],nu,groups, gamma, n)\n\u001b[1;32m---> 28\u001b[0m     D_2 \u001b[39m=\u001b[39m EM_matrix_update_d2(theta_init,x[i],nu,groups, gamma, n)\n\u001b[0;32m     29\u001b[0m     D_3 \u001b[39m=\u001b[39m EM_matrix_update_d3(theta_init,x[i],nu,groups, gamma, n)\n\u001b[0;32m     31\u001b[0m     \u001b[39m#D_1 = np.outer(np.sqrt(V[i]), np.sqrt(V[i]))\u001b[39;00m\n\u001b[0;32m     32\u001b[0m     \u001b[39m#D_2 = np.outer(np.sqrt(1/V[i]), np.sqrt(V[i]))\u001b[39;00m\n\u001b[0;32m     33\u001b[0m     \u001b[39m#D_3 = np.outer(np.sqrt(1/V[i]), np.sqrt(1/V[i]))\u001b[39;00m\n",
      "Cell \u001b[1;32mIn [345], line 81\u001b[0m, in \u001b[0;36mEM_matrix_update_d2\u001b[1;34m(theta, x, nu, m, gamma, n)\u001b[0m\n\u001b[0;32m     79\u001b[0m combintaion \u001b[39m=\u001b[39m \u001b[39m'\u001b[39m\u001b[39m'\u001b[39m\u001b[39m.\u001b[39mjoin(\u001b[39msorted\u001b[39m(\u001b[39mstr\u001b[39m(m[i])\u001b[39m+\u001b[39m\u001b[39mstr\u001b[39m(m[j])))\n\u001b[0;32m     80\u001b[0m \u001b[39mif\u001b[39;00m combination_calculated[combintaion] \u001b[39mis\u001b[39;00m \u001b[39mNone\u001b[39;00m:\n\u001b[1;32m---> 81\u001b[0m     D[i,j] \u001b[39m=\u001b[39m  integrate\u001b[39m.\u001b[39;49mfixed_quad(integrand_pair_d2, \u001b[39m0\u001b[39;49m, \u001b[39m1\u001b[39;49m ,args \u001b[39m=\u001b[39;49m (S, gamma, x,nu,i,j),n \u001b[39m=\u001b[39;49m n)[\u001b[39m0\u001b[39m]\u001b[39m/\u001b[39mdenom\n\u001b[0;32m     82\u001b[0m     combination_calculated[combintaion] \u001b[39m=\u001b[39m D[i,j]\n\u001b[0;32m     83\u001b[0m \u001b[39melse\u001b[39;00m:\n",
      "File \u001b[1;32mc:\\Users\\User\\anaconda3\\envs\\DyGraph\\lib\\site-packages\\scipy\\integrate\\_quadrature.py:150\u001b[0m, in \u001b[0;36mfixed_quad\u001b[1;34m(func, a, b, args, n)\u001b[0m\n\u001b[0;32m    147\u001b[0m     \u001b[39mraise\u001b[39;00m \u001b[39mValueError\u001b[39;00m(\u001b[39m\"\u001b[39m\u001b[39mGaussian quadrature is only available for \u001b[39m\u001b[39m\"\u001b[39m\n\u001b[0;32m    148\u001b[0m                      \u001b[39m\"\u001b[39m\u001b[39mfinite limits.\u001b[39m\u001b[39m\"\u001b[39m)\n\u001b[0;32m    149\u001b[0m y \u001b[39m=\u001b[39m (b\u001b[39m-\u001b[39ma)\u001b[39m*\u001b[39m(x\u001b[39m+\u001b[39m\u001b[39m1\u001b[39m)\u001b[39m/\u001b[39m\u001b[39m2.0\u001b[39m \u001b[39m+\u001b[39m a\n\u001b[1;32m--> 150\u001b[0m \u001b[39mreturn\u001b[39;00m (b\u001b[39m-\u001b[39ma)\u001b[39m/\u001b[39m\u001b[39m2.0\u001b[39m \u001b[39m*\u001b[39m np\u001b[39m.\u001b[39msum(w\u001b[39m*\u001b[39mfunc(y, \u001b[39m*\u001b[39;49margs), axis\u001b[39m=\u001b[39m\u001b[39m-\u001b[39m\u001b[39m1\u001b[39m), \u001b[39mNone\u001b[39;00m\n",
      "File \u001b[1;32mc:\\Users\\User\\anaconda3\\envs\\DyGraph\\lib\\site-packages\\numpy\\lib\\function_base.py:2328\u001b[0m, in \u001b[0;36mvectorize.__call__\u001b[1;34m(self, *args, **kwargs)\u001b[0m\n\u001b[0;32m   2325\u001b[0m     vargs \u001b[39m=\u001b[39m [args[_i] \u001b[39mfor\u001b[39;00m _i \u001b[39min\u001b[39;00m inds]\n\u001b[0;32m   2326\u001b[0m     vargs\u001b[39m.\u001b[39mextend([kwargs[_n] \u001b[39mfor\u001b[39;00m _n \u001b[39min\u001b[39;00m names])\n\u001b[1;32m-> 2328\u001b[0m \u001b[39mreturn\u001b[39;00m \u001b[39mself\u001b[39;49m\u001b[39m.\u001b[39;49m_vectorize_call(func\u001b[39m=\u001b[39;49mfunc, args\u001b[39m=\u001b[39;49mvargs)\n",
      "File \u001b[1;32mc:\\Users\\User\\anaconda3\\envs\\DyGraph\\lib\\site-packages\\numpy\\lib\\function_base.py:2411\u001b[0m, in \u001b[0;36mvectorize._vectorize_call\u001b[1;34m(self, func, args)\u001b[0m\n\u001b[0;32m   2408\u001b[0m \u001b[39m# Convert args to object arrays first\u001b[39;00m\n\u001b[0;32m   2409\u001b[0m inputs \u001b[39m=\u001b[39m [asanyarray(a, dtype\u001b[39m=\u001b[39m\u001b[39mobject\u001b[39m) \u001b[39mfor\u001b[39;00m a \u001b[39min\u001b[39;00m args]\n\u001b[1;32m-> 2411\u001b[0m outputs \u001b[39m=\u001b[39m ufunc(\u001b[39m*\u001b[39;49minputs)\n\u001b[0;32m   2413\u001b[0m \u001b[39mif\u001b[39;00m ufunc\u001b[39m.\u001b[39mnout \u001b[39m==\u001b[39m \u001b[39m1\u001b[39m:\n\u001b[0;32m   2414\u001b[0m     res \u001b[39m=\u001b[39m asanyarray(outputs, dtype\u001b[39m=\u001b[39motypes[\u001b[39m0\u001b[39m])\n",
      "File \u001b[1;32mc:\\Users\\User\\anaconda3\\envs\\DyGraph\\lib\\site-packages\\numpy\\lib\\function_base.py:2323\u001b[0m, in \u001b[0;36mvectorize.__call__.<locals>.func\u001b[1;34m(*vargs)\u001b[0m\n\u001b[0;32m   2321\u001b[0m     the_args[_i] \u001b[39m=\u001b[39m vargs[_n]\n\u001b[0;32m   2322\u001b[0m kwargs\u001b[39m.\u001b[39mupdate(\u001b[39mzip\u001b[39m(names, vargs[\u001b[39mlen\u001b[39m(inds):]))\n\u001b[1;32m-> 2323\u001b[0m \u001b[39mreturn\u001b[39;00m \u001b[39mself\u001b[39m\u001b[39m.\u001b[39mpyfunc(\u001b[39m*\u001b[39mthe_args, \u001b[39m*\u001b[39m\u001b[39m*\u001b[39mkwargs)\n",
      "Cell \u001b[1;32mIn [345], line 55\u001b[0m, in \u001b[0;36mintegrand_pair_d2\u001b[1;34m(u, S, gamma, x, nu, i, j)\u001b[0m\n\u001b[0;32m     52\u001b[0m \u001b[39mdef\u001b[39;00m \u001b[39mintegrand_pair_d2\u001b[39m(u,S,gamma,x,nu,i,j):\n\u001b[1;32m---> 55\u001b[0m     T_vec \u001b[39m=\u001b[39m _T(u,nu)\n\u001b[0;32m     56\u001b[0m     \u001b[39m#a = np.diag(np.sqrt(np.reciprocal(T_vec)))\u001b[39;00m\n\u001b[0;32m     57\u001b[0m     \u001b[39m#cov = np.dot(a,S).dot(a)\u001b[39;00m\n\u001b[0;32m     58\u001b[0m     a \u001b[39m=\u001b[39m np\u001b[39m.\u001b[39msqrt(np\u001b[39m.\u001b[39mreciprocal(T_vec))\n",
      "Cell \u001b[1;32mIn [345], line 2\u001b[0m, in \u001b[0;36m_T\u001b[1;34m(u, nu)\u001b[0m\n\u001b[0;32m      1\u001b[0m \u001b[39mdef\u001b[39;00m \u001b[39m_T\u001b[39m(u,nu):\n\u001b[1;32m----> 2\u001b[0m     \u001b[39mreturn\u001b[39;00m np\u001b[39m.\u001b[39marray([chi2\u001b[39m.\u001b[39mppf(u, df \u001b[39m=\u001b[39m nu[i])\u001b[39m/\u001b[39mnu[i] \u001b[39mfor\u001b[39;00m i \u001b[39min\u001b[39;00m \u001b[39mrange\u001b[39m(\u001b[39mlen\u001b[39m(nu))])\n",
      "Cell \u001b[1;32mIn [345], line 2\u001b[0m, in \u001b[0;36m<listcomp>\u001b[1;34m(.0)\u001b[0m\n\u001b[0;32m      1\u001b[0m \u001b[39mdef\u001b[39;00m \u001b[39m_T\u001b[39m(u,nu):\n\u001b[1;32m----> 2\u001b[0m     \u001b[39mreturn\u001b[39;00m np\u001b[39m.\u001b[39marray([chi2\u001b[39m.\u001b[39;49mppf(u, df \u001b[39m=\u001b[39;49m nu[i])\u001b[39m/\u001b[39mnu[i] \u001b[39mfor\u001b[39;00m i \u001b[39min\u001b[39;00m \u001b[39mrange\u001b[39m(\u001b[39mlen\u001b[39m(nu))])\n",
      "File \u001b[1;32mc:\\Users\\User\\anaconda3\\envs\\DyGraph\\lib\\site-packages\\scipy\\stats\\_distn_infrastructure.py:2351\u001b[0m, in \u001b[0;36mrv_continuous.ppf\u001b[1;34m(self, q, *args, **kwds)\u001b[0m\n\u001b[0;32m   2349\u001b[0m     goodargs \u001b[39m=\u001b[39m argsreduce(cond, \u001b[39m*\u001b[39m((q,)\u001b[39m+\u001b[39margs\u001b[39m+\u001b[39m(scale, loc)))\n\u001b[0;32m   2350\u001b[0m     scale, loc, goodargs \u001b[39m=\u001b[39m goodargs[\u001b[39m-\u001b[39m\u001b[39m2\u001b[39m], goodargs[\u001b[39m-\u001b[39m\u001b[39m1\u001b[39m], goodargs[:\u001b[39m-\u001b[39m\u001b[39m2\u001b[39m]\n\u001b[1;32m-> 2351\u001b[0m     place(output, cond, \u001b[39mself\u001b[39;49m\u001b[39m.\u001b[39;49m_ppf(\u001b[39m*\u001b[39;49mgoodargs) \u001b[39m*\u001b[39;49m scale \u001b[39m+\u001b[39;49m loc)\n\u001b[0;32m   2352\u001b[0m \u001b[39mif\u001b[39;00m output\u001b[39m.\u001b[39mndim \u001b[39m==\u001b[39m \u001b[39m0\u001b[39m:\n\u001b[0;32m   2353\u001b[0m     \u001b[39mreturn\u001b[39;00m output[()]\n",
      "File \u001b[1;32m<__array_function__ internals>:177\u001b[0m, in \u001b[0;36mplace\u001b[1;34m(*args, **kwargs)\u001b[0m\n",
      "\u001b[1;31mKeyboardInterrupt\u001b[0m: "
     ]
    }
   ],
   "source": [
    "from decimal import Decimal\n",
    "n_t = 200\n",
    "nr_graphs = int(n/n_t)\n",
    "\n",
    "theta = np.array([prec_1 for _ in range(nr_graphs) ])\n",
    "z0 = np.array([prec_1 for _ in range(nr_graphs) ])\n",
    "z1 = np.array([prec_1 for _ in range(nr_graphs) ])\n",
    "z2 = np.array([prec_1 for _ in range(nr_graphs) ])\n",
    "\n",
    "thetas_pre = theta.copy()\n",
    "def get_A( i):\n",
    "    if i == 0 or i == nr_graphs-1:\n",
    "        A = (z0[i] + z1[i] + z2[i] - u0[i] - u1[i] - u2[i])/2.0\n",
    "    else:\n",
    "        A = (z0[i] + z1[i] + z2[i] - u0[i] - u1[i] - u2[i])/3.0\n",
    "    return A\n",
    "\n",
    "\n",
    "kappa = 0.1\n",
    "lamda = 0.1\n",
    "rho =n_t\n",
    "\n",
    "nr_its = 100\n",
    "gamma_est = np.zeros(shape = (nr_graphs,X.shape[1]))\n",
    "\n",
    "pbar = tqdm.tqdm(total = nr_its)\n",
    "\n",
    "iteration=0\n",
    "while iteration < nr_its:\n",
    "\n",
    "    for i in range(nr_graphs):\n",
    "        if i == nr_graphs-1 or i == 0:\n",
    "            eta = n_t/rho/2.0\n",
    "        else:\n",
    "            eta = n_t/rho/3.0\n",
    "        _, gamma_est[i] = em_iteration(X[n_t*i:(i+1)*n_t], get_A(i),theta[i],nu, rho, eta, gamma_est[i], groups, n = 5)\n",
    "\n",
    "\n",
    "    pbar.set_description(f\"Error {Decimal(fro_norm):.2E}\")\n",
    "    pbar.update()\n",
    "\n",
    "    thetas_pre = theta.copy()\n",
    "\n",
    "\n",
    "    iteration+= 1\n",
    "    print(gamma_est[0])\n",
    "\n",
    "pbar.close()\n",
    "\n"
   ]
  },
  {
   "cell_type": "code",
   "execution_count": 13,
   "metadata": {},
   "outputs": [
    {
     "data": {
      "text/plain": [
       "array([[ 1.51515152,  0.        , -1.06060606,  0.55151515],\n",
       "       [ 0.        ,  2.5       ,  0.        ,  0.        ],\n",
       "       [-1.06060606,  0.        ,  2.24242424, -0.60606061],\n",
       "       [ 0.55151515,  0.        , -0.60606061,  1.51515152]])"
      ]
     },
     "execution_count": 13,
     "metadata": {},
     "output_type": "execute_result"
    }
   ],
   "source": [
    "z0[i]"
   ]
  },
  {
   "cell_type": "code",
   "execution_count": 12,
   "metadata": {},
   "outputs": [
    {
     "data": {
      "text/plain": [
       "array([[ 0.02713184, -1.34183117,  0.61296905,  0.13419843],\n",
       "       [ 0.21190639, -0.64517196, -0.93636545,  0.53578898]])"
      ]
     },
     "execution_count": 12,
     "metadata": {},
     "output_type": "execute_result"
    }
   ],
   "source": [
    "gamma_est"
   ]
  },
  {
   "cell_type": "code",
   "execution_count": 115,
   "metadata": {},
   "outputs": [],
   "source": [
    "pbar.close()"
   ]
  },
  {
   "cell_type": "code",
   "execution_count": 100,
   "metadata": {},
   "outputs": [
    {
     "data": {
      "text/plain": [
       "array([[ 1.51515152,  0.        , -1.06060606,  0.55151515],\n",
       "       [ 0.        ,  2.5       ,  0.        ,  0.        ],\n",
       "       [-1.06060606,  0.        ,  2.24242424, -0.60606061],\n",
       "       [ 0.55151515,  0.        , -0.60606061,  1.51515152]])"
      ]
     },
     "execution_count": 100,
     "metadata": {},
     "output_type": "execute_result"
    }
   ],
   "source": [
    "prec_1"
   ]
  },
  {
   "cell_type": "code",
   "execution_count": 117,
   "metadata": {},
   "outputs": [
    {
     "data": {
      "text/plain": [
       "array([[ 1.2 , -0.08, -0.84,  0.4 ],\n",
       "       [-0.08,  2.13,  0.06, -0.07],\n",
       "       [-0.84,  0.06,  1.79, -0.43],\n",
       "       [ 0.4 , -0.07, -0.43,  1.23]])"
      ]
     },
     "execution_count": 117,
     "metadata": {},
     "output_type": "execute_result"
    }
   ],
   "source": [
    "np.round(theta[1],2)"
   ]
  },
  {
   "attachments": {},
   "cell_type": "markdown",
   "metadata": {},
   "source": [
    "# Integration Test"
   ]
  },
  {
   "attachments": {},
   "cell_type": "markdown",
   "metadata": {},
   "source": [
    "Functions"
   ]
  },
  {
   "cell_type": "code",
   "execution_count": 91,
   "metadata": {},
   "outputs": [],
   "source": [
    "\n",
    "def integrand_pair(u,S,x,T,i,j):\n",
    "\n",
    "\n",
    "    T_vec = T(u)\n",
    "    a = np.sqrt(np.reciprocal(T_vec))\n",
    "    cov = np.multiply(S, np.outer(a,a))\n",
    "    A = np.sqrt(T_vec)\n",
    "    return A[i]*A[j]*multivariate_normal.pdf(x, mean =np.zeros(S.shape[0]), cov = cov)\n",
    "\n",
    "\n",
    "integrand_pair = np.vectorize(integrand_pair,excluded = [1,2,3,4,5])\n",
    "def generalized_skew_t( x, cov, T, gamma = None):\n",
    "\n",
    "    if gamma is None:\n",
    "        gamma = np.zeros(cov.shape[0])\n",
    "        # cov = np.dot(np.sqrt(np.diag(np.reciprocal(T(u)))), cov).dot(np.sqrt(np.diag(np.reciprocal(T(u)))))\n",
    "    integrand = lambda u: multivariate_normal.pdf(x, mean = np.dot(np.diag(np.reciprocal(T(u))), gamma), cov = np.multiply(cov, np.outer(np.sqrt(np.reciprocal(T(u))),np.sqrt(np.reciprocal(T(u))))) )\n",
    "    integrand = np.vectorize(integrand)\n",
    "    result = integrate.fixed_quad(integrand, 0, 1,n = 10)\n",
    "    return result[0]\n",
    "\n",
    "\n",
    "\n",
    "def EM_matrix_update(theta, T, x, m):\n",
    "    from collections import defaultdict\n",
    "\n",
    "\n",
    "    combination_calculated = defaultdict(lambda: None)\n",
    "    d = theta.shape[0]\n",
    "    D = np.zeros(shape = theta.shape)\n",
    "    S = np.linalg.inv(theta)\n",
    "    denom = generalized_skew_t(x, S, T, gamma = None)\n",
    "\n",
    "    for i in range(D.shape[0]):\n",
    "        for j in range(i, D.shape[0]):\n",
    "            combintaion = ''.join(sorted(str(m[i])+str(m[j])))\n",
    "            if combination_calculated[combintaion] is None:\n",
    "                D[i,j] =  integrate.fixed_quad(integrand_pair, 0, 1 ,args = (S, x, T,i,j),n=10)[0]/denom\n",
    "                combination_calculated[combintaion] = D[i,j]\n",
    "            else:\n",
    "                D[i,j] = combination_calculated[combintaion]\n",
    "\n",
    "    return np.triu(D,0) + np.triu(D,1).T\n",
    "\n",
    "\n",
    "def generate_group_t(Sigma, nu, n):\n",
    "\n",
    "    T = lambda u: np.array([chi2.ppf(u, df = nu[i])/nu[i] for i in range(len(nu))])\n",
    "\n",
    "    d = Sigma.shape[0]\n",
    "    x = np.random.multivariate_normal(mean = np.zeros(d),cov = Sigma, size = n)\n",
    "    y = np.zeros(shape = (n, d))\n",
    "\n",
    "    for i in range(n):\n",
    "\n",
    "\n",
    "        u = np.random.uniform()\n",
    "        y[i] = np.sqrt(np.reciprocal(T(u)))*x[i]\n",
    "\n",
    "    return y\n",
    "\n",
    "\n",
    "\n",
    "\n"
   ]
  },
  {
   "cell_type": "code",
   "execution_count": 125,
   "metadata": {},
   "outputs": [],
   "source": [
    "def integrand_pair2(u,theta,x,T,i,j):\n",
    "\n",
    "\n",
    "    T_vec = T(u)\n",
    "    a = np.sqrt(T_vec)\n",
    "    prec = np.multiply(theta, np.outer(a,a))\n",
    "    A = np.sqrt(T_vec)\n",
    "    # C = 1/np.sqrt((1/np.linalg.det(prec))*(2*np.pi) ** d)\n",
    "    return np.sqrt(np.prod(T_vec))*A[i]*A[j]*np.exp(-0.5*np.dot(x, prec).dot(x))\n",
    "\n",
    "integrand_pair2 = np.vectorize(integrand_pair2,excluded = [1,2,3,4,5])\n",
    "\n",
    "\n",
    "def gen_skew_t_integrand(u, theta,x,T,gamma):\n",
    "    T_vec = T(u)\n",
    "\n",
    "    mean = np.dot(np.diag(np.reciprocal(T_vec)), gamma)\n",
    "    a = np.sqrt(T_vec)\n",
    "    prec = np.multiply(theta, np.outer(a,a))\n",
    "    return np.sqrt(np.prod(T_vec))*np.exp(-0.5*np.dot(x-mean, prec).dot(x-mean))\n",
    "\n",
    "\n",
    "gen_skew_t_integrand = np.vectorize(gen_skew_t_integrand,excluded = [1,2,3,4])\n",
    "\n",
    "\n",
    "def generalized_skew_t2( x, theta, T, gamma = None):\n",
    "\n",
    "    if gamma is None:\n",
    "        gamma = np.zeros(theta.shape[0])\n",
    "\n",
    "    C = 1/np.sqrt((1/np.linalg.det(theta))*(2*np.pi) ** d)\n",
    "    result = integrate.fixed_quad(gen_skew_t_integrand, 0, 1,args = (theta, x, T, gamma),n = 10)\n",
    "    return C*result[0]\n",
    "\n",
    "\n",
    "\n",
    "def EM_matrix_update2(theta, T, x, m, tol_skew_t= 1e-4, tol_expectation= 1e-4):\n",
    "    from collections import defaultdict\n",
    "\n",
    "\n",
    "    combination_calculated = defaultdict(lambda: None)\n",
    "    d = theta.shape[0]\n",
    "    D = np.zeros(shape = theta.shape)\n",
    "    denom = generalized_skew_t2(x,theta,T)\n",
    "    C = 1/np.sqrt((1/np.linalg.det(theta))*(2*np.pi) ** d)\n",
    "    for i in range(D.shape[0]):\n",
    "        for j in range(i, D.shape[0]):\n",
    "            combintaion = ''.join(sorted(str(m[i])+str(m[j])))\n",
    "            if combination_calculated[combintaion] is None:\n",
    "                D[i,j] =  C*integrate.fixed_quad(integrand_pair2, 0, 1 ,args = (theta, x, T,i,j),n=10)[0]/denom\n",
    "                combination_calculated[combintaion] = D[i,j]\n",
    "            else:\n",
    "                D[i,j] = combination_calculated[combintaion]\n",
    "\n",
    "    return np.triu(D,0) + np.triu(D,1).T"
   ]
  },
  {
   "cell_type": "code",
   "execution_count": 85,
   "metadata": {},
   "outputs": [
    {
     "data": {
      "text/plain": [
       "0.010184553141997307"
      ]
     },
     "execution_count": 85,
     "metadata": {},
     "output_type": "execute_result"
    }
   ],
   "source": [
    "nu = [4,4,4]\n",
    "m = [0,0,0]\n",
    "\n",
    "T = lambda u: np.array([chi2.ppf(u, df = nu[i])/nu[i] for i in range(len(nu))])\n",
    "\n",
    "d = 3\n",
    "theta = np.array([[1,0.3,0.3], [0.3, 1, 0.3], [0.3, 0.3, 1]])\n",
    "# x =np.random.multivariate_normal(mean = np.zeros(theta.shape[0]), cov = np.linalg.inv(theta))\n",
    "x = multivariate_t.rvs(shape = np.linalg.inv(theta), df = 4)\n",
    "S = np.linalg.inv(theta)\n",
    "\n",
    "for i in range(1):\n",
    "    C = 1/np.sqrt((1/np.linalg.det(theta))*(2*np.pi) ** d)\n",
    "    result = C*integrate.quad(integrand_pair2, 0, 1 ,args = (theta, x, T,0,0))[0]/generalized_skew_t2(x, S, T, gamma = None)\n",
    "    #print(result)\n",
    "\n",
    "generalized_skew_t2(x,theta,T)"
   ]
  },
  {
   "attachments": {},
   "cell_type": "markdown",
   "metadata": {},
   "source": [
    "True student-T"
   ]
  },
  {
   "cell_type": "code",
   "execution_count": 74,
   "metadata": {},
   "outputs": [],
   "source": [
    "for i in range(50):\n",
    "    result = integrate.quad(integrand_pair, 0, 1 ,args = (S, x, T,0,0))[0]/generalized_skew_t(x, S, T, gamma = None)\n",
    "    #print(result)"
   ]
  },
  {
   "cell_type": "code",
   "execution_count": 12,
   "metadata": {},
   "outputs": [
    {
     "name": "stdout",
     "output_type": "stream",
     "text": [
      "1.5424089298539803\n",
      "1.5435968533865236\n",
      "1.5424089307487696\n"
     ]
    }
   ],
   "source": [
    "nu = [4,4,4]\n",
    "m = [0,0,0]\n",
    "\n",
    "T = lambda u: np.array([chi2.ppf(u, df = nu[i])/nu[i] for i in range(len(nu))])\n",
    "\n",
    "\n",
    "theta = np.array([[1,0.3,0.3], [0.3, 1, 0.3], [0.3, 0.3, 1]])\n",
    "# x =np.random.multivariate_normal(mean = np.zeros(theta.shape[0]), cov = np.linalg.inv(theta))\n",
    "x = multivariate_t.rvs(shape = np.linalg.inv(theta), df = 4)\n",
    "S = np.linalg.inv(theta)\n",
    "\n",
    "\n",
    "result = integrate.quad(integrand_pair, 0, 1 ,args = (S,x, T,0,0))[0]/multivariate_t.pdf(x , loc = np.zeros(3), df=nu[0], shape = S)#generalized_skew_t(x, np.linalg.inv(theta), T, gamma = None)\n",
    "print(result)\n",
    "\n",
    "result = integrate.quad(integrand_pair, 0, 1 ,args = (S, x, T,0,0))[0]/generalized_skew_t(x, S, T, gamma = None)\n",
    "print(result)\n",
    "\n",
    "M = np.dot(x, theta).dot(x.T)\n",
    "print((nu[0] + 3)/ (nu[0] + M))"
   ]
  },
  {
   "attachments": {},
   "cell_type": "markdown",
   "metadata": {},
   "source": [
    "Now with all pair"
   ]
  },
  {
   "cell_type": "code",
   "execution_count": 106,
   "metadata": {},
   "outputs": [
    {
     "name": "stdout",
     "output_type": "stream",
     "text": [
      "1.0256602068013023\n",
      "1.0264880767097335\n",
      "1.0264880767097335\n"
     ]
    }
   ],
   "source": [
    "\n",
    "D = EM_matrix_update(theta, T, x, m)\n",
    "D2 = EM_matrix_update2(theta, T, x, m)\n",
    "#print(np.multiply(D, np.outer(x,x)))\n",
    "M = np.dot(x, theta).dot(x.T)\n",
    "v = (nu[0] + theta.shape[0])/ (nu[0] + M)\n",
    "#print(v*np.outer(x,x))\n",
    "\n",
    "print(v)\n",
    "print(D[0,0])\n",
    "print(D2[0,0])"
   ]
  },
  {
   "attachments": {},
   "cell_type": "markdown",
   "metadata": {},
   "source": [
    "Time complexity"
   ]
  },
  {
   "cell_type": "code",
   "execution_count": 114,
   "metadata": {},
   "outputs": [],
   "source": [
    "for _ in range(100):\n",
    "    #print(_)\n",
    "    D = EM_matrix_update(theta, T, x, m)"
   ]
  },
  {
   "cell_type": "code",
   "execution_count": 115,
   "metadata": {},
   "outputs": [],
   "source": [
    "for _ in range(100):\n",
    "    # print(_)\n",
    "    D = EM_matrix_update2(theta, T, x, m)"
   ]
  },
  {
   "attachments": {},
   "cell_type": "markdown",
   "metadata": {},
   "source": [
    "Works for student-T. Let's try group t"
   ]
  },
  {
   "cell_type": "code",
   "execution_count": 122,
   "metadata": {},
   "outputs": [],
   "source": [
    "theta = np.array([[1,0.3,0.3], [0.3, 1, 0.3], [0.3, 0.3, 1]])\n",
    "Sigma = np.linalg.inv(theta)\n",
    "nu = [4,4,8]\n",
    "\n",
    "x = generate_group_t(S,nu,1)"
   ]
  },
  {
   "cell_type": "code",
   "execution_count": 123,
   "metadata": {},
   "outputs": [
    {
     "name": "stdout",
     "output_type": "stream",
     "text": [
      "[[ 0.09905847 -0.57320577  0.15622937]\n",
      " [-0.57320577  3.31687787 -0.90402745]\n",
      " [ 0.15622937 -0.90402745  0.24803621]]\n"
     ]
    }
   ],
   "source": [
    "m = [0,0,1]\n",
    "T = lambda u: np.array([chi2.ppf(u, df = nu[i])/nu[i] for i in range(len(nu))])\n",
    "D = EM_matrix_update(theta, T, x[0], m)\n",
    "print(np.multiply(D, np.outer(x,x)))"
   ]
  },
  {
   "cell_type": "code",
   "execution_count": 126,
   "metadata": {},
   "outputs": [
    {
     "name": "stdout",
     "output_type": "stream",
     "text": [
      "[[ 0.09905847 -0.57320577  0.15622937]\n",
      " [-0.57320577  3.31687787 -0.90402745]\n",
      " [ 0.15622937 -0.90402745  0.24803621]]\n"
     ]
    }
   ],
   "source": [
    "m = [0,0,1]\n",
    "T = lambda u: np.array([chi2.ppf(u, df = nu[i])/nu[i] for i in range(len(nu))])\n",
    "D = EM_matrix_update2(theta, T, x[0], m)\n",
    "print(np.multiply(D, np.outer(x,x)))"
   ]
  },
  {
   "cell_type": "code",
   "execution_count": 132,
   "metadata": {},
   "outputs": [],
   "source": [
    "for _ in range(100):\n",
    "    #print(_)\n",
    "    D = EM_matrix_update(theta, T, x, m)"
   ]
  },
  {
   "cell_type": "code",
   "execution_count": 133,
   "metadata": {},
   "outputs": [],
   "source": [
    "for _ in range(100):\n",
    "    # print(_)\n",
    "    D = EM_matrix_update2(theta, T, x[0], m)"
   ]
  },
  {
   "attachments": {},
   "cell_type": "markdown",
   "metadata": {},
   "source": [
    "scale up"
   ]
  },
  {
   "cell_type": "code",
   "execution_count": 8,
   "metadata": {},
   "outputs": [
    {
     "name": "stdout",
     "output_type": "stream",
     "text": [
      "0.4278096309651343\n",
      "0.5257524423537892\n"
     ]
    }
   ],
   "source": [
    "from sklearn.datasets import make_sparse_spd_matrix\n",
    "d = 50\n",
    "prec_0 = make_sparse_spd_matrix(d, alpha=0.3, smallest_coef=-0.3, largest_coef=0.3, norm_diag = True,random_state=42)\n",
    "#print(\"precision\")\n",
    "#print(prec_0)\n",
    "#print(\"Covariance\")\n",
    "S = np.linalg.inv(prec_0)\n",
    "\n",
    "nu = [4,4,4]\n",
    "m = [0]*d #[0]*(d-30) + [1]*20 + [2]*10\n",
    "\n",
    "x = multivariate_t.rvs(shape = np.linalg.inv(prec_0), df = 4) #generate_group_t(S,nu,m,1)\n",
    "T = lambda u: np.array([chi2.ppf(u, df = nu[m[i]])/nu[m[i]] for i in range(len(m))])\n",
    "\n",
    "\n",
    "\n",
    "D = EM_matrix_update(prec_0, T, x, m)\n",
    "#print(np.round(np.multiply(D, np.outer(x,x)),3))\n",
    "M = np.dot(x, prec_0).dot(x.T)\n",
    "v = (nu[0] + d)/ (nu[0] + M)\n",
    "#print(np.round(v*np.outer(x,x),3))\n",
    "\n",
    "\n",
    "print(D[0,0])\n",
    "print(v)\n"
   ]
  },
  {
   "cell_type": "code",
   "execution_count": 190,
   "metadata": {},
   "outputs": [
    {
     "data": {
      "text/plain": [
       "8.284778116013363e-34"
      ]
     },
     "execution_count": 190,
     "metadata": {},
     "output_type": "execute_result"
    }
   ],
   "source": [
    "generalized_skew_t(x,S,T)"
   ]
  },
  {
   "cell_type": "code",
   "execution_count": 314,
   "metadata": {},
   "outputs": [
    {
     "name": "stdout",
     "output_type": "stream",
     "text": [
      "0\n",
      "1\n",
      "2\n",
      "3\n",
      "4\n"
     ]
    }
   ],
   "source": [
    "for _ in range(5):\n",
    "    print(_)\n",
    "    EM_matrix_update(prec_0, T, x, m)"
   ]
  },
  {
   "cell_type": "code",
   "execution_count": 217,
   "metadata": {},
   "outputs": [],
   "source": [
    "for _ in range(10):\n",
    "    gamma = np.zeros(S.shape[0])\n",
    "    # cov = np.dot(np.sqrt(np.diag(np.reciprocal(T(u)))), cov).dot(np.sqrt(np.diag(np.reciprocal(T(u)))))\n",
    "    integrand = lambda u: multivariate_normal.pdf(x, mean = np.dot(np.diag(np.reciprocal(T(u))), gamma), cov = np.multiply(S, np.outer(np.sqrt(np.reciprocal(T(u))),np.sqrt(np.reciprocal(T(u))))) )\n",
    "    integrand = np.vectorize(integrand)\n",
    "    result = integrate.quadrature(integrand, 0, 1)\n",
    "    result[0]"
   ]
  },
  {
   "attachments": {},
   "cell_type": "markdown",
   "metadata": {},
   "source": [
    "Try estimation"
   ]
  },
  {
   "cell_type": "code",
   "execution_count": 11,
   "metadata": {},
   "outputs": [
    {
     "name": "stderr",
     "output_type": "stream",
     "text": [
      "  0%|          | 0/1000 [00:00<?, ?it/s]"
     ]
    },
    {
     "ename": "TypeError",
     "evalue": "'numpy.ndarray' object is not callable",
     "output_type": "error",
     "traceback": [
      "\u001b[1;31m---------------------------------------------------------------------------\u001b[0m",
      "\u001b[1;31mTypeError\u001b[0m                                 Traceback (most recent call last)",
      "Cell \u001b[1;32mIn [11], line 11\u001b[0m\n\u001b[0;32m      9\u001b[0m obs_per_graph \u001b[39m=\u001b[39m \u001b[39m50\u001b[39m\n\u001b[0;32m     10\u001b[0m dg_opt1 \u001b[39m=\u001b[39m dg\u001b[39m.\u001b[39mdygl_parallel(obs_per_graph \u001b[39m=\u001b[39m obs_per_graph, max_iter \u001b[39m=\u001b[39m \u001b[39m1000\u001b[39m, lamda \u001b[39m=\u001b[39m obs_per_graph\u001b[39m*\u001b[39m\u001b[39m0.05\u001b[39m, kappa \u001b[39m=\u001b[39m obs_per_graph\u001b[39m*\u001b[39m\u001b[39m0.9\u001b[39m, tol \u001b[39m=\u001b[39m \u001b[39m1e-6\u001b[39m)\n\u001b[1;32m---> 11\u001b[0m dg_opt1\u001b[39m.\u001b[39;49mfit(X, nr_workers\u001b[39m=\u001b[39;49m\u001b[39m1\u001b[39;49m, temporal_penalty\u001b[39m=\u001b[39;49m\u001b[39m\"\u001b[39;49m\u001b[39mridge\u001b[39;49m\u001b[39m\"\u001b[39;49m, lik_type\u001b[39m=\u001b[39;49m\u001b[39m\"\u001b[39;49m\u001b[39mgroup-t\u001b[39;49m\u001b[39m\"\u001b[39;49m, nr_em_itr \u001b[39m=\u001b[39;49m \u001b[39m2\u001b[39;49m, time_index\u001b[39m=\u001b[39;49m\u001b[39mrange\u001b[39;49m(X\u001b[39m.\u001b[39;49mshape[\u001b[39m0\u001b[39;49m]), nu \u001b[39m=\u001b[39;49m nu,groups \u001b[39m=\u001b[39;49m groups)\n",
      "File \u001b[1;32mC:\\Users/User/Code/DyGraph\\DyGraph\\dygl_parallel.py:355\u001b[0m, in \u001b[0;36mdygl_parallel.fit\u001b[1;34m(self, X, temporal_penalty, lik_type, nr_workers, verbose, time_index, **kwargs)\u001b[0m\n\u001b[0;32m    353\u001b[0m \u001b[39melse\u001b[39;00m:\n\u001b[0;32m    354\u001b[0m     \u001b[39mfor\u001b[39;00m i \u001b[39min\u001b[39;00m \u001b[39mrange\u001b[39m(\u001b[39mself\u001b[39m\u001b[39m.\u001b[39mnr_graphs):\n\u001b[1;32m--> 355\u001b[0m         \u001b[39mself\u001b[39m\u001b[39m.\u001b[39mtheta[i],_ \u001b[39m=\u001b[39m theta_update(i,\n\u001b[0;32m    356\u001b[0m                                         \u001b[39mself\u001b[39;49m\u001b[39m.\u001b[39;49mget_A(i), \n\u001b[0;32m    357\u001b[0m                                         \u001b[39mself\u001b[39;49m\u001b[39m.\u001b[39;49mS[i], \n\u001b[0;32m    358\u001b[0m                                         \u001b[39mself\u001b[39;49m\u001b[39m.\u001b[39;49mobs_per_graph_used[i],\n\u001b[0;32m    359\u001b[0m                                         \u001b[39mself\u001b[39;49m\u001b[39m.\u001b[39;49mrho, \n\u001b[0;32m    360\u001b[0m                                         \u001b[39mself\u001b[39;49m\u001b[39m.\u001b[39;49mnr_graphs,\n\u001b[0;32m    361\u001b[0m                                         kwargs\u001b[39m.\u001b[39;49mget(\u001b[39m\"\u001b[39;49m\u001b[39mgroups\u001b[39;49m\u001b[39m\"\u001b[39;49m, \u001b[39mNone\u001b[39;49;00m),\n\u001b[0;32m    362\u001b[0m                                         lik_type,\n\u001b[0;32m    363\u001b[0m                                         X[\u001b[39mself\u001b[39;49m\u001b[39m.\u001b[39;49mobs_per_graph\u001b[39m*\u001b[39;49mi:(i\u001b[39m+\u001b[39;49m\u001b[39m1\u001b[39;49m)\u001b[39m*\u001b[39;49m\u001b[39mself\u001b[39;49m\u001b[39m.\u001b[39;49mobs_per_graph],\n\u001b[0;32m    364\u001b[0m                                         kwargs\u001b[39m.\u001b[39;49mget(\u001b[39m\"\u001b[39;49m\u001b[39mnr_em_itr\u001b[39;49m\u001b[39m\"\u001b[39;49m, \u001b[39m5\u001b[39;49m),\n\u001b[0;32m    365\u001b[0m                                         \u001b[39mself\u001b[39;49m\u001b[39m.\u001b[39;49mtheta[i],\n\u001b[0;32m    366\u001b[0m                                         kwargs\u001b[39m.\u001b[39;49mget(\u001b[39m\"\u001b[39;49m\u001b[39mnu\u001b[39;49m\u001b[39m\"\u001b[39;49m, \u001b[39m4\u001b[39;49m),\n\u001b[0;32m    367\u001b[0m                                         kwargs\u001b[39m.\u001b[39;49mget(\u001b[39m\"\u001b[39;49m\u001b[39mem_tol\u001b[39;49m\u001b[39m\"\u001b[39;49m, \u001b[39m1e-4\u001b[39;49m),\n\u001b[0;32m    368\u001b[0m                                         kwargs\u001b[39m.\u001b[39;49mget(\u001b[39m\"\u001b[39;49m\u001b[39mminiter_expectation\u001b[39;49m\u001b[39m\"\u001b[39;49m, \u001b[39m1\u001b[39;49m),\n\u001b[0;32m    369\u001b[0m                                         kwargs\u001b[39m.\u001b[39;49mget(\u001b[39m\"\u001b[39;49m\u001b[39mminiter_skew_pdf\u001b[39;49m\u001b[39m\"\u001b[39;49m, \u001b[39m1\u001b[39;49m),\n\u001b[0;32m    370\u001b[0m                                         kwargs\u001b[39m.\u001b[39;49mget(\u001b[39m\"\u001b[39;49m\u001b[39mtol_expectation\u001b[39;49m\u001b[39m\"\u001b[39;49m, \u001b[39m1e-4\u001b[39;49m),\n\u001b[0;32m    371\u001b[0m                                         kwargs\u001b[39m.\u001b[39;49mget(\u001b[39m\"\u001b[39;49m\u001b[39mtol_skew_pdf\u001b[39;49m\u001b[39m\"\u001b[39;49m, \u001b[39m1e-4\u001b[39;49m) )\n\u001b[0;32m    374\u001b[0m \u001b[39m# update dual in parallel\u001b[39;00m\n\u001b[0;32m    375\u001b[0m \u001b[39m# update z0\u001b[39;00m\n\u001b[0;32m    376\u001b[0m \u001b[39mfor\u001b[39;00m i \u001b[39min\u001b[39;00m \u001b[39mrange\u001b[39m(\u001b[39mself\u001b[39m\u001b[39m.\u001b[39mnr_graphs):\n",
      "File \u001b[1;32mC:\\Users/User/Code/DyGraph\\DyGraph\\dygl_parallel.py:177\u001b[0m, in \u001b[0;36mtheta_update\u001b[1;34m(i, A, S, n_t, rho, nr_graphs, groups, lik_type, X, nr_em_itr, theta_init, nu, em_tol, miniter_expectation, miniter_skew_pdf, tol_expectation, tol_skew_pdf)\u001b[0m\n\u001b[0;32m    174\u001b[0m     theta \u001b[39m=\u001b[39m inner_em(X, A, theta_init, nu, rho, eta, nr_itr\u001b[39m=\u001b[39m nr_em_itr, tol \u001b[39m=\u001b[39m em_tol)\n\u001b[0;32m    175\u001b[0m \u001b[39melif\u001b[39;00m lik_type \u001b[39m==\u001b[39m \u001b[39m\"\u001b[39m\u001b[39mgroup-t\u001b[39m\u001b[39m\"\u001b[39m:\n\u001b[0;32m    176\u001b[0m     \u001b[39m# print(\"group-t update\")\u001b[39;00m\n\u001b[1;32m--> 177\u001b[0m     theta \u001b[39m=\u001b[39m inner_em(X, A, theta_init, nu, rho, eta, groups, lik_type \u001b[39m=\u001b[39;49m lik_type, nr_itr\u001b[39m=\u001b[39;49m nr_em_itr, tol \u001b[39m=\u001b[39;49m em_tol, \n\u001b[0;32m    178\u001b[0m     miniter_skew_pdf \u001b[39m=\u001b[39;49m miniter_skew_pdf , tol_skew_pdf \u001b[39m=\u001b[39;49mtol_skew_pdf,miniter_expectation\u001b[39m=\u001b[39;49mminiter_expectation, tol_expectation\u001b[39m=\u001b[39;49mtol_expectation)\n\u001b[0;32m    179\u001b[0m \u001b[39melse\u001b[39;00m:\n\u001b[0;32m    180\u001b[0m     \u001b[39mraise\u001b[39;00m \u001b[39mValueError\u001b[39;00m(\u001b[39mf\u001b[39m\u001b[39m\"\u001b[39m\u001b[39mlikelihood \u001b[39m\u001b[39m{\u001b[39;00mlik_type\u001b[39m}\u001b[39;00m\u001b[39m not known\u001b[39m\u001b[39m\"\u001b[39m)\n",
      "File \u001b[1;32mC:\\Users/User/Code/DyGraph\\DyGraph\\dygl_parallel.py:130\u001b[0m, in \u001b[0;36minner_em\u001b[1;34m(X, A, theta_init, nu, rho, eta, groups, lik_type, nr_itr, tol, miniter_skew_pdf, tol_skew_pdf, miniter_expectation, tol_expectation)\u001b[0m\n\u001b[0;32m    127\u001b[0m \u001b[39m#print(\"starting E-step\")\u001b[39;00m\n\u001b[0;32m    128\u001b[0m \u001b[39mfor\u001b[39;00m i \u001b[39min\u001b[39;00m \u001b[39mrange\u001b[39m(x\u001b[39m.\u001b[39mshape[\u001b[39m0\u001b[39m]):\n\u001b[0;32m    129\u001b[0m     \u001b[39m# print(i)\u001b[39;00m\n\u001b[1;32m--> 130\u001b[0m     S \u001b[39m+\u001b[39m\u001b[39m=\u001b[39m np\u001b[39m.\u001b[39mmultiply(np\u001b[39m.\u001b[39mouter(x[i],x[i]), EM_matrix_update(S_pre, theta_pre,x[i],nu,groups, miniter_skew_pdf\u001b[39m=\u001b[39;49m miniter_skew_pdf, \n\u001b[0;32m    131\u001b[0m     tol_skew_pdf \u001b[39m=\u001b[39;49m tol_skew_pdf, miniter_expectation \u001b[39m=\u001b[39;49m miniter_expectation, tol_expectation \u001b[39m=\u001b[39;49m tol_expectation))\u001b[39m/\u001b[39m\u001b[39mfloat\u001b[39m(x\u001b[39m.\u001b[39mshape[\u001b[39m0\u001b[39m])\n\u001b[0;32m    132\u001b[0m \u001b[39m# M-step\u001b[39;00m\n\u001b[0;32m    133\u001b[0m theta_new\u001b[39m=\u001b[39m Gaussian_update(S, A, eta)\n",
      "File \u001b[1;32mC:\\Users/User/Code/DyGraph\\DyGraph\\dygl_parallel.py:56\u001b[0m, in \u001b[0;36mEM_matrix_update\u001b[1;34m(theta, T, x, nu, m, miniter_skew_pdf, tol_skew_pdf, miniter_expectation, tol_expectation)\u001b[0m\n\u001b[0;32m     54\u001b[0m D \u001b[39m=\u001b[39m np\u001b[39m.\u001b[39mzeros(shape \u001b[39m=\u001b[39m theta\u001b[39m.\u001b[39mshape)\n\u001b[0;32m     55\u001b[0m S \u001b[39m=\u001b[39m np\u001b[39m.\u001b[39mlinalg\u001b[39m.\u001b[39minv(theta)\n\u001b[1;32m---> 56\u001b[0m denom \u001b[39m=\u001b[39m generalized_skew_t(x, S, T,nu, gamma \u001b[39m=\u001b[39;49m \u001b[39mNone\u001b[39;49;00m,miniter \u001b[39m=\u001b[39;49m miniter_skew_pdf, tol \u001b[39m=\u001b[39;49m tol_skew_pdf)\n\u001b[0;32m     58\u001b[0m \u001b[39mfor\u001b[39;00m i \u001b[39min\u001b[39;00m \u001b[39mrange\u001b[39m(D\u001b[39m.\u001b[39mshape[\u001b[39m0\u001b[39m]):\n\u001b[0;32m     59\u001b[0m     \u001b[39mfor\u001b[39;00m j \u001b[39min\u001b[39;00m \u001b[39mrange\u001b[39m(i, D\u001b[39m.\u001b[39mshape[\u001b[39m0\u001b[39m]):\n",
      "File \u001b[1;32mC:\\Users/User/Code/DyGraph\\DyGraph\\dygl_parallel.py:44\u001b[0m, in \u001b[0;36mgeneralized_skew_t\u001b[1;34m(x, cov, T, nu, gamma, miniter, tol)\u001b[0m\n\u001b[0;32m     42\u001b[0m integrand \u001b[39m=\u001b[39m \u001b[39mlambda\u001b[39;00m u: multivariate_normal\u001b[39m.\u001b[39mpdf(x, mean \u001b[39m=\u001b[39m np\u001b[39m.\u001b[39mdot(np\u001b[39m.\u001b[39mdiag(np\u001b[39m.\u001b[39mreciprocal(T(u,nu))), gamma), cov \u001b[39m=\u001b[39m np\u001b[39m.\u001b[39mmultiply(cov, np\u001b[39m.\u001b[39mouter(np\u001b[39m.\u001b[39msqrt(np\u001b[39m.\u001b[39mreciprocal(T(u,nu))),np\u001b[39m.\u001b[39msqrt(np\u001b[39m.\u001b[39mreciprocal(T(u,nu))))) )\n\u001b[0;32m     43\u001b[0m integrand \u001b[39m=\u001b[39m np\u001b[39m.\u001b[39mvectorize(integrand)\n\u001b[1;32m---> 44\u001b[0m result \u001b[39m=\u001b[39m integrate\u001b[39m.\u001b[39;49mquadrature(integrand, \u001b[39m0\u001b[39;49m, \u001b[39m1\u001b[39;49m,miniter\u001b[39m=\u001b[39;49mminiter,tol \u001b[39m=\u001b[39;49m tol)\n\u001b[0;32m     45\u001b[0m \u001b[39mreturn\u001b[39;00m result[\u001b[39m0\u001b[39m]\n",
      "File \u001b[1;32mc:\\Users\\User\\anaconda3\\envs\\DyGraph\\lib\\site-packages\\scipy\\integrate\\_quadrature.py:269\u001b[0m, in \u001b[0;36mquadrature\u001b[1;34m(func, a, b, args, tol, rtol, maxiter, vec_func, miniter)\u001b[0m\n\u001b[0;32m    267\u001b[0m maxiter \u001b[39m=\u001b[39m \u001b[39mmax\u001b[39m(miniter\u001b[39m+\u001b[39m\u001b[39m1\u001b[39m, maxiter)\n\u001b[0;32m    268\u001b[0m \u001b[39mfor\u001b[39;00m n \u001b[39min\u001b[39;00m \u001b[39mrange\u001b[39m(miniter, maxiter\u001b[39m+\u001b[39m\u001b[39m1\u001b[39m):\n\u001b[1;32m--> 269\u001b[0m     newval \u001b[39m=\u001b[39m fixed_quad(vfunc, a, b, (), n)[\u001b[39m0\u001b[39m]\n\u001b[0;32m    270\u001b[0m     err \u001b[39m=\u001b[39m \u001b[39mabs\u001b[39m(newval\u001b[39m-\u001b[39mval)\n\u001b[0;32m    271\u001b[0m     val \u001b[39m=\u001b[39m newval\n",
      "File \u001b[1;32mc:\\Users\\User\\anaconda3\\envs\\DyGraph\\lib\\site-packages\\scipy\\integrate\\_quadrature.py:150\u001b[0m, in \u001b[0;36mfixed_quad\u001b[1;34m(func, a, b, args, n)\u001b[0m\n\u001b[0;32m    147\u001b[0m     \u001b[39mraise\u001b[39;00m \u001b[39mValueError\u001b[39;00m(\u001b[39m\"\u001b[39m\u001b[39mGaussian quadrature is only available for \u001b[39m\u001b[39m\"\u001b[39m\n\u001b[0;32m    148\u001b[0m                      \u001b[39m\"\u001b[39m\u001b[39mfinite limits.\u001b[39m\u001b[39m\"\u001b[39m)\n\u001b[0;32m    149\u001b[0m y \u001b[39m=\u001b[39m (b\u001b[39m-\u001b[39ma)\u001b[39m*\u001b[39m(x\u001b[39m+\u001b[39m\u001b[39m1\u001b[39m)\u001b[39m/\u001b[39m\u001b[39m2.0\u001b[39m \u001b[39m+\u001b[39m a\n\u001b[1;32m--> 150\u001b[0m \u001b[39mreturn\u001b[39;00m (b\u001b[39m-\u001b[39ma)\u001b[39m/\u001b[39m\u001b[39m2.0\u001b[39m \u001b[39m*\u001b[39m np\u001b[39m.\u001b[39msum(w\u001b[39m*\u001b[39mfunc(y, \u001b[39m*\u001b[39;49margs), axis\u001b[39m=\u001b[39m\u001b[39m-\u001b[39m\u001b[39m1\u001b[39m), \u001b[39mNone\u001b[39;00m\n",
      "File \u001b[1;32mc:\\Users\\User\\anaconda3\\envs\\DyGraph\\lib\\site-packages\\scipy\\integrate\\_quadrature.py:180\u001b[0m, in \u001b[0;36mvectorize1.<locals>.vfunc\u001b[1;34m(x)\u001b[0m\n\u001b[0;32m    179\u001b[0m \u001b[39mdef\u001b[39;00m \u001b[39mvfunc\u001b[39m(x):\n\u001b[1;32m--> 180\u001b[0m     \u001b[39mreturn\u001b[39;00m func(x, \u001b[39m*\u001b[39;49margs)\n",
      "File \u001b[1;32mc:\\Users\\User\\anaconda3\\envs\\DyGraph\\lib\\site-packages\\numpy\\lib\\function_base.py:2328\u001b[0m, in \u001b[0;36mvectorize.__call__\u001b[1;34m(self, *args, **kwargs)\u001b[0m\n\u001b[0;32m   2325\u001b[0m     vargs \u001b[39m=\u001b[39m [args[_i] \u001b[39mfor\u001b[39;00m _i \u001b[39min\u001b[39;00m inds]\n\u001b[0;32m   2326\u001b[0m     vargs\u001b[39m.\u001b[39mextend([kwargs[_n] \u001b[39mfor\u001b[39;00m _n \u001b[39min\u001b[39;00m names])\n\u001b[1;32m-> 2328\u001b[0m \u001b[39mreturn\u001b[39;00m \u001b[39mself\u001b[39;49m\u001b[39m.\u001b[39;49m_vectorize_call(func\u001b[39m=\u001b[39;49mfunc, args\u001b[39m=\u001b[39;49mvargs)\n",
      "File \u001b[1;32mc:\\Users\\User\\anaconda3\\envs\\DyGraph\\lib\\site-packages\\numpy\\lib\\function_base.py:2406\u001b[0m, in \u001b[0;36mvectorize._vectorize_call\u001b[1;34m(self, func, args)\u001b[0m\n\u001b[0;32m   2404\u001b[0m     res \u001b[39m=\u001b[39m func()\n\u001b[0;32m   2405\u001b[0m \u001b[39melse\u001b[39;00m:\n\u001b[1;32m-> 2406\u001b[0m     ufunc, otypes \u001b[39m=\u001b[39m \u001b[39mself\u001b[39;49m\u001b[39m.\u001b[39;49m_get_ufunc_and_otypes(func\u001b[39m=\u001b[39;49mfunc, args\u001b[39m=\u001b[39;49margs)\n\u001b[0;32m   2408\u001b[0m     \u001b[39m# Convert args to object arrays first\u001b[39;00m\n\u001b[0;32m   2409\u001b[0m     inputs \u001b[39m=\u001b[39m [asanyarray(a, dtype\u001b[39m=\u001b[39m\u001b[39mobject\u001b[39m) \u001b[39mfor\u001b[39;00m a \u001b[39min\u001b[39;00m args]\n",
      "File \u001b[1;32mc:\\Users\\User\\anaconda3\\envs\\DyGraph\\lib\\site-packages\\numpy\\lib\\function_base.py:2366\u001b[0m, in \u001b[0;36mvectorize._get_ufunc_and_otypes\u001b[1;34m(self, func, args)\u001b[0m\n\u001b[0;32m   2362\u001b[0m     \u001b[39mraise\u001b[39;00m \u001b[39mValueError\u001b[39;00m(\u001b[39m'\u001b[39m\u001b[39mcannot call `vectorize` on size 0 inputs \u001b[39m\u001b[39m'\u001b[39m\n\u001b[0;32m   2363\u001b[0m                      \u001b[39m'\u001b[39m\u001b[39munless `otypes` is set\u001b[39m\u001b[39m'\u001b[39m)\n\u001b[0;32m   2365\u001b[0m inputs \u001b[39m=\u001b[39m [arg\u001b[39m.\u001b[39mflat[\u001b[39m0\u001b[39m] \u001b[39mfor\u001b[39;00m arg \u001b[39min\u001b[39;00m args]\n\u001b[1;32m-> 2366\u001b[0m outputs \u001b[39m=\u001b[39m func(\u001b[39m*\u001b[39;49minputs)\n\u001b[0;32m   2368\u001b[0m \u001b[39m# Performance note: profiling indicates that -- for simple\u001b[39;00m\n\u001b[0;32m   2369\u001b[0m \u001b[39m# functions at least -- this wrapping can almost double the\u001b[39;00m\n\u001b[0;32m   2370\u001b[0m \u001b[39m# execution time.\u001b[39;00m\n\u001b[0;32m   2371\u001b[0m \u001b[39m# Hence we make it optional.\u001b[39;00m\n\u001b[0;32m   2372\u001b[0m \u001b[39mif\u001b[39;00m \u001b[39mself\u001b[39m\u001b[39m.\u001b[39mcache:\n",
      "File \u001b[1;32mC:\\Users/User/Code/DyGraph\\DyGraph\\dygl_parallel.py:42\u001b[0m, in \u001b[0;36mgeneralized_skew_t.<locals>.<lambda>\u001b[1;34m(u)\u001b[0m\n\u001b[0;32m     40\u001b[0m     gamma \u001b[39m=\u001b[39m np\u001b[39m.\u001b[39mzeros(cov\u001b[39m.\u001b[39mshape[\u001b[39m0\u001b[39m])\n\u001b[0;32m     41\u001b[0m     \u001b[39m# cov = np.dot(np.sqrt(np.diag(np.reciprocal(T(u)))), cov).dot(np.sqrt(np.diag(np.reciprocal(T(u)))))\u001b[39;00m\n\u001b[1;32m---> 42\u001b[0m integrand \u001b[39m=\u001b[39m \u001b[39mlambda\u001b[39;00m u: multivariate_normal\u001b[39m.\u001b[39mpdf(x, mean \u001b[39m=\u001b[39m np\u001b[39m.\u001b[39mdot(np\u001b[39m.\u001b[39mdiag(np\u001b[39m.\u001b[39mreciprocal(T(u,nu))), gamma), cov \u001b[39m=\u001b[39m np\u001b[39m.\u001b[39mmultiply(cov, np\u001b[39m.\u001b[39mouter(np\u001b[39m.\u001b[39msqrt(np\u001b[39m.\u001b[39mreciprocal(T(u,nu))),np\u001b[39m.\u001b[39msqrt(np\u001b[39m.\u001b[39mreciprocal(T(u,nu))))) )\n\u001b[0;32m     43\u001b[0m integrand \u001b[39m=\u001b[39m np\u001b[39m.\u001b[39mvectorize(integrand)\n\u001b[0;32m     44\u001b[0m result \u001b[39m=\u001b[39m integrate\u001b[39m.\u001b[39mquadrature(integrand, \u001b[39m0\u001b[39m, \u001b[39m1\u001b[39m,miniter\u001b[39m=\u001b[39mminiter,tol \u001b[39m=\u001b[39m tol)\n",
      "\u001b[1;31mTypeError\u001b[0m: 'numpy.ndarray' object is not callable"
     ]
    }
   ],
   "source": [
    "prec_1 = np.array([[ 1.51515152,  0.        , -1.06060606,  0.55151515],\n",
    "                    [ 0.        ,  2.5       ,  0.        ,  0.        ],\n",
    "                    [-1.06060606,  0.        ,  4.24242424, -0.60606061],\n",
    "                    [ 0.55151515,  0.        , -0.60606061,  1.51515152]])\n",
    "\n",
    "\n",
    "groups = [0,0,0,0]\n",
    "X = generate_group_t(Sigma = np.linalg.inv(prec_1), nu = [4]*4,n = 100)\n",
    "obs_per_graph = 50\n",
    "dg_opt1 = dg.dygl_parallel(obs_per_graph = obs_per_graph, max_iter = 1000, lamda = obs_per_graph*0.05, kappa = obs_per_graph*0.9, tol = 1e-6)\n",
    "dg_opt1.fit(X, nr_workers=1, temporal_penalty=\"ridge\", lik_type=\"group-t\", nr_em_itr = 2, time_index=range(X.shape[0]), nu = nu,groups = groups)"
   ]
  },
  {
   "cell_type": "code",
   "execution_count": null,
   "metadata": {},
   "outputs": [],
   "source": [
    "from sklearn.datasets import make_sparse_spd_matrix\n",
    "d = 50\n",
    "prec_0 = make_sparse_spd_matrix(d, alpha=0.3, smallest_coef=-0.3, largest_coef=0.3, norm_diag = True,random_state=42)\n",
    "#print(\"precision\")\n",
    "#print(prec_0)\n",
    "#print(\"Covariance\")\n",
    "S = np.linalg.inv(prec_0)\n",
    "\n",
    "nu = [4,3,8]\n",
    "m = [0]*(d-30) + [1]*20 + [2]*10\n",
    "\n",
    "x = multivariate_t.rvs(shape = np.linalg.inv(prec_0), df = 4) #generate_group_t(S,nu,m,1)\n",
    "T = lambda u: np.array([chi2.ppf(u, df = nu[m[i]])/nu[m[i]] for i in range(len(m))])\n",
    "\n",
    "\n",
    "\n",
    "D = EM_matrix_update(prec_0, T, x, m,tol_expectation=1e-3, tol_skew_t=1e-3)\n",
    "print(np.round(np.multiply(D, np.outer(x,x)),3))\n",
    "M = np.dot(x, prec_0).dot(x.T)\n",
    "v = (nu[0] + d)/ (nu[0] + M)\n",
    "print(np.round(v*np.outer(x,x),3))"
   ]
  }
 ],
 "metadata": {
  "kernelspec": {
   "display_name": "DyGraph",
   "language": "python",
   "name": "python3"
  },
  "language_info": {
   "codemirror_mode": {
    "name": "ipython",
    "version": 3
   },
   "file_extension": ".py",
   "mimetype": "text/x-python",
   "name": "python",
   "nbconvert_exporter": "python",
   "pygments_lexer": "ipython3",
   "version": "3.10.6"
  },
  "orig_nbformat": 4,
  "vscode": {
   "interpreter": {
    "hash": "95fbe69513d588cbfb572e93f5d450d181f1d8d49af9eba3df43ef2e3376dba8"
   }
  }
 },
 "nbformat": 4,
 "nbformat_minor": 2
}
