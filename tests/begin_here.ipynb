{
 "cells": [
  {
   "attachments": {},
   "cell_type": "markdown",
   "metadata": {},
   "source": [
    "# 0 load packages"
   ]
  },
  {
   "cell_type": "code",
   "execution_count": 2,
   "metadata": {},
   "outputs": [],
   "source": [
    "import numpy as np\n",
    "import sys,os\n",
    "import matplotlib.pyplot as plt\n",
    "from scipy.stats import multivariate_t as mvt, norm \n",
    "import sklearn\n",
    "from sklearn.covariance import GraphicalLasso\n",
    "import scipy\n",
    "from sklearn.metrics import zero_one_loss\n",
    "from sklearn.metrics.pairwise import pairwise_kernels\n",
    "import time\n",
    "import tqdm\n",
    "import networkx as nx\n",
    "\n",
    "sys.path.insert(0, 'C:/Users/User/Code/DyGraph')\n",
    "\n",
    "import DyGraph as dg"
   ]
  },
  {
   "attachments": {},
   "cell_type": "markdown",
   "metadata": {},
   "source": [
    "Define functions"
   ]
  },
  {
   "cell_type": "code",
   "execution_count": 18,
   "metadata": {},
   "outputs": [],
   "source": [
    "def calc_one_zero_error(T,Estimate, ratio = True):\n",
    "    d = T.shape[0]\n",
    "    T[np.abs(T)<1e-7] = 0.0\n",
    "    Estimate[np.abs(Estimate)<1e-7] = 0.0\n",
    "    error = np.sum(~(np.sign(T[np.triu_indices(T.shape[0], k = 1)]) == np.sign(Estimate[np.triu_indices(Estimate.shape[0], k = 1)])))\n",
    "    if ratio:\n",
    "        error = error/float(d*(d-1)/2)\n",
    "    return error\n",
    "\n",
    "\n",
    "\n",
    "def plot_edges(prec_list, theta, edges):\n",
    "\n",
    "    # red grey green blue\n",
    "    colors_light = ['black', '#D0CDC9', '#6EA96E', '#D6F6F6']\n",
    "    colors_dark = ['#CC1100', '#8B7500','#00688B', '#00688B']\n",
    "\n",
    "    fig, ax = plt.subplots(1,len(edges), figsize = (5*len(edges),5))\n",
    "\n",
    "    plot_once_edge = True\n",
    "    \n",
    "\n",
    "    d = theta.shape[1]\n",
    "\n",
    "\n",
    "    \n",
    "    for cnt2, e in enumerate(edges):\n",
    "\n",
    "        if len(edges) == 1:\n",
    "            if plot_once_edge:\n",
    "                ax.plot(prec_list[:,e[0],e[1]], label = \"True\", color = colors_light[0])\n",
    "            \n",
    "            ax.set_title(f\"Edge ({e[0]+1}, {e[1]+1})\")\n",
    "                \n",
    "            ax.plot(theta[:,e[0],e[1]], linestyle = '--', color = colors_dark[0])\n",
    "            \n",
    "            ax.legend(bbox_to_anchor = (1,1))\n",
    "            ax.set_xlabel(\"Time\")\n",
    "            ax.set_ylabel(\"Edge weight\")\n",
    "        else:\n",
    "            if plot_once_edge:\n",
    "                ax[cnt2].plot(prec_list[:,e[0],e[1]], label = \"True\", color = colors_light[0])\n",
    "            \n",
    "            ax[cnt2].set_title(f\"Edge ({e[0]+1}, {e[1]+1})\")\n",
    "\n",
    "            ax[cnt2].plot(theta[:,e[0],e[1]])\n",
    "                \n",
    "            if cnt2 == len(edges)-1:\n",
    "                ax[cnt2].legend(bbox_to_anchor = (1,1))\n",
    "            ax[cnt2].set_xlabel(\"Time\")\n",
    "            ax[cnt2].set_ylabel(\"Edge weight\")\n",
    "\n",
    "    plot_once_edge = False"
   ]
  },
  {
   "attachments": {},
   "cell_type": "markdown",
   "metadata": {},
   "source": [
    "Introduction\n",
    "\n",
    "Temporal penalties:\n",
    "* element-wise\n",
    "*\n",
    "*\n",
    "*\n",
    "*\n",
    "\n",
    "Distributions\n",
    "* gaussian\n",
    "* t"
   ]
  },
  {
   "cell_type": "code",
   "execution_count": 9,
   "metadata": {},
   "outputs": [
    {
     "name": "stdout",
     "output_type": "stream",
     "text": [
      "[[ 1.    0.    0.13  0.   -0.55]\n",
      " [ 0.    1.    0.    0.09 -0.31]\n",
      " [ 0.13  0.    1.    0.   -0.5 ]\n",
      " [ 0.    0.09  0.    1.    0.  ]\n",
      " [-0.55 -0.31 -0.5   0.    1.  ]]\n",
      "[[ 1.    0.    0.13  0.   -0.55]\n",
      " [ 0.    1.    0.    0.09  0.  ]\n",
      " [ 0.13  0.    1.    0.   -0.5 ]\n",
      " [ 0.    0.09  0.    1.    0.  ]\n",
      " [-0.55  0.   -0.5   0.    1.  ]]\n"
     ]
    }
   ],
   "source": [
    "\n",
    "from sklearn.datasets import make_sparse_spd_matrix\n",
    "prec_0 = make_sparse_spd_matrix(5, alpha=0.3, smallest_coef=-0.2, largest_coef=0.8, norm_diag = True,random_state=42)\n",
    "\n",
    "print(np.round(prec_0,2))\n",
    "prec_1 = prec_0.copy()\n",
    "prec_1[1,4] = 0\n",
    "prec_1[4,1] = 0\n",
    "print(np.round(prec_1,2))\n",
    "\n",
    "\n",
    "\n",
    "\n",
    "\n",
    "\n"
   ]
  },
  {
   "attachments": {},
   "cell_type": "markdown",
   "metadata": {},
   "source": [
    "# Gaussian Data"
   ]
  },
  {
   "cell_type": "code",
   "execution_count": 12,
   "metadata": {},
   "outputs": [],
   "source": [
    "n = 1000\n",
    "X1 = np.random.multivariate_normal(mean = np.zeros(prec_0.shape[0]), cov = np.linalg.inv(prec_0),size=(n) )\n",
    "X2 = np.random.multivariate_normal(mean = np.zeros(prec_0.shape[0]), cov = np.linalg.inv(prec_1),size=(n) )\n",
    "X = np.vstack((X1,X2))"
   ]
  },
  {
   "attachments": {},
   "cell_type": "markdown",
   "metadata": {},
   "source": [
    "Fit a Gaussian model"
   ]
  },
  {
   "cell_type": "code",
   "execution_count": 27,
   "metadata": {},
   "outputs": [
    {
     "name": "stderr",
     "output_type": "stream",
     "text": [
      "Error 3.24E-7: 100%|██████████| 1000/1000 [00:03<00:00, 250.54it/s]\n"
     ]
    }
   ],
   "source": [
    "obs_per_graph = 100\n",
    "gaussian_model = dg.dygl_parallel(obs_per_graph = obs_per_graph, max_iter = 1000, lamda = obs_per_graph*0.1, kappa = obs_per_graph*0.3, tol = 1e-10)\n",
    "gaussian_model.fit(X,'element-wise', time_index=range(X.shape[0]))"
   ]
  },
  {
   "attachments": {},
   "cell_type": "markdown",
   "metadata": {},
   "source": [
    "plot edges"
   ]
  },
  {
   "cell_type": "code",
   "execution_count": 28,
   "metadata": {},
   "outputs": [
    {
     "data": {
      "image/png": "[encoded data removed]",
      "text/plain": [
       "<Figure size 1000x500 with 2 Axes>"
      ]
     },
     "metadata": {},
     "output_type": "display_data"
    }
   ],
   "source": [
    "prec_list = np.array([prec_0]*10 + [prec_1]*10)\n",
    "\n",
    "plot_edges(prec_list, gaussian_model.theta, [(1,4), (0,4)])"
   ]
  },
  {
   "attachments": {},
   "cell_type": "markdown",
   "metadata": {},
   "source": [
    "# Student T data"
   ]
  },
  {
   "cell_type": "code",
   "execution_count": 29,
   "metadata": {},
   "outputs": [],
   "source": [
    "n = 1000\n",
    "X1 = mvt.rvs(shape = np.linalg.inv(prec_0),  df = 4, size = n)\n",
    "X2 = mvt.rvs(shape = np.linalg.inv(prec_1),  df = 4, size = n)\n",
    "X = np.vstack((X1,X2))\n"
   ]
  },
  {
   "cell_type": "code",
   "execution_count": 30,
   "metadata": {},
   "outputs": [
    {
     "name": "stderr",
     "output_type": "stream",
     "text": [
      "  0%|          | 0/1000 [00:00<?, ?it/s]"
     ]
    }
   ],
   "source": [
    "obs_per_graph = 100\n",
    "dg_opt1 = dg.dygl_parallel(obs_per_graph = obs_per_graph, max_iter = 1000, lamda = obs_per_graph*0.05, kappa = obs_per_graph*0.2, tol = 1e-10)\n",
    "dg_opt1.fit(X, nr_workers=7, temporal_penalty=\"element-wise\", lik_type=\"t\", nr_em_itr = 1, time_index=range(X.shape[0]), nu = 4)\n"
   ]
  },
  {
   "cell_type": "code",
   "execution_count": null,
   "metadata": {},
   "outputs": [],
   "source": [
    "prec_list = np.array([prec_0]*10 + [prec_1]*10)\n",
    "\n",
    "plot_edges(prec_list, gaussian_model.theta, [(1,4), (0,4)])"
   ]
  }
 ],
 "metadata": {
  "kernelspec": {
   "display_name": "DyGraph",
   "language": "python",
   "name": "python3"
  },
  "language_info": {
   "codemirror_mode": {
    "name": "ipython",
    "version": 3
   },
   "file_extension": ".py",
   "mimetype": "text/x-python",
   "name": "python",
   "nbconvert_exporter": "python",
   "pygments_lexer": "ipython3",
   "version": "3.10.6 | packaged by conda-forge | (main, Oct 24 2022, 16:02:16) [MSC v.1916 64 bit (AMD64)]"
  },
  "orig_nbformat": 4,
  "vscode": {
   "interpreter": {
    "hash": "95fbe69513d588cbfb572e93f5d450d181f1d8d49af9eba3df43ef2e3376dba8"
   }
  }
 },
 "nbformat": 4,
 "nbformat_minor": 2
}
