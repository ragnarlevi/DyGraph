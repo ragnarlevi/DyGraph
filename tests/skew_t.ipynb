{
 "cells": [
  {
   "cell_type": "code",
   "execution_count": 2,
   "metadata": {},
   "outputs": [],
   "source": [
    "import numpy as np\n",
    "import sys,os\n",
    "import matplotlib.pyplot as plt\n",
    "from scipy.stats import multivariate_t, norm, chi2, multivariate_normal\n",
    "import sklearn\n",
    "from sklearn.covariance import GraphicalLasso\n",
    "import scipy\n",
    "from sklearn.metrics import zero_one_loss\n",
    "from sklearn.metrics.pairwise import pairwise_kernels\n",
    "import time\n",
    "import tqdm\n",
    "import networkx as nx\n",
    "import scipy.integrate as integrate\n",
    "from sklearn.datasets import make_sparse_spd_matrix\n",
    "sys.path.insert(0, 'C:/Users/User/Code/DyGraph')\n",
    "\n",
    "import DyGraph as dg"
   ]
  },
  {
   "cell_type": "code",
   "execution_count": 58,
   "metadata": {},
   "outputs": [
    {
     "name": "stderr",
     "output_type": "stream",
     "text": [
      "C:\\Users\\User\\AppData\\Local\\Temp\\ipykernel_20876\\1600366158.py:2: FutureWarning: adjacency_matrix will return a scipy.sparse array instead of a matrix in Networkx 3.0.\n",
      "  A = np.array(nx.adjacency_matrix(G).todense())\n"
     ]
    }
   ],
   "source": [
    "G =nx.erdos_renyi_graph(20, 0.25, seed=42)\n",
    "A = np.array(nx.adjacency_matrix(G).todense())\n",
    "A[np.tril_indices(20)] = 0\n",
    "A = np.multiply(A, np.random.uniform(-0.6,0.6, size = (20,20)))\n",
    "A = A+A.T\n",
    "np.fill_diagonal(A, np.sum(np.abs(A),axis=1))\n"
   ]
  },
  {
   "cell_type": "code",
   "execution_count": 59,
   "metadata": {},
   "outputs": [
    {
     "data": {
      "text/plain": [
       "(array([0.08431162, 0.33742154, 0.44081946, 0.51545803, 0.58086229,\n",
       "        0.70447216, 0.85743763, 0.93608348, 1.11565385, 1.20309048,\n",
       "        1.53734358, 1.60560262, 1.89368973, 2.03790044, 2.20598245,\n",
       "        2.46349333, 2.94656048, 3.42355666, 3.71285753, 4.12644555]),\n",
       " array([[ 2.77301034e-02,  1.70220849e-01, -1.58640737e-01,\n",
       "         -7.67901165e-02, -5.04197723e-02,  1.49984032e-01,\n",
       "         -8.43269661e-02,  5.94944532e-03, -1.50629099e-01,\n",
       "         -4.28116914e-01,  2.91804371e-01,  4.22880685e-02,\n",
       "          7.55200824e-02,  4.90852526e-01, -3.88270035e-01,\n",
       "          8.73394795e-02, -2.10488562e-01,  4.05252185e-01,\n",
       "          2.30407586e-02, -3.20592231e-03],\n",
       "        [-5.71072998e-03, -1.44929824e-01, -1.84697086e-01,\n",
       "         -5.97094214e-02,  2.24914075e-02, -9.45961836e-02,\n",
       "         -6.76628451e-01, -5.27710884e-02, -3.55690482e-01,\n",
       "          1.22174753e-01, -1.40482876e-01,  9.45517558e-02,\n",
       "         -1.11615119e-01, -3.24854279e-01, -3.80716721e-01,\n",
       "          4.92615177e-02,  1.58069798e-01,  8.70311573e-02,\n",
       "         -4.73501501e-02, -3.06401178e-02],\n",
       "        [ 2.38712182e-02,  3.09799526e-01,  9.20951132e-02,\n",
       "          1.10235348e-01, -9.57417900e-03,  2.36919983e-02,\n",
       "          2.16394781e-01, -4.31765839e-03, -9.22615832e-02,\n",
       "         -2.78506521e-02, -1.48495417e-02, -4.66228257e-02,\n",
       "         -2.21727570e-01, -3.17978461e-02,  9.03205948e-04,\n",
       "          9.70425107e-02,  7.51990332e-01,  3.53171377e-01,\n",
       "          1.31408316e-01, -2.37825132e-01],\n",
       "        [-1.06276615e-03, -1.39067942e-02, -1.84877595e-01,\n",
       "          6.15194393e-02,  8.16348511e-02, -5.96109993e-01,\n",
       "          8.11931938e-02,  1.63792774e-01, -2.47255776e-02,\n",
       "         -3.85271834e-02,  1.36029636e-01, -5.68905206e-01,\n",
       "          3.31028867e-01,  2.42944114e-02, -1.65598600e-01,\n",
       "          1.21853602e-01,  1.68035190e-01, -8.14359982e-02,\n",
       "         -6.96492628e-02,  1.73194223e-01],\n",
       "        [ 1.23959573e-03,  3.02256158e-02, -1.82338936e-01,\n",
       "         -4.88134989e-02,  9.08013377e-01,  1.93376105e-01,\n",
       "          9.33425885e-02, -1.95530595e-01, -9.22879165e-03,\n",
       "         -1.56028722e-02, -2.09373236e-02, -6.81850820e-02,\n",
       "          1.01634640e-02, -6.60555566e-03, -8.59776175e-02,\n",
       "         -1.78951115e-01,  2.58020530e-02, -5.61023971e-02,\n",
       "          7.62831499e-02, -3.98057068e-03],\n",
       "        [-1.31348387e-02, -5.50841348e-02,  2.70098105e-01,\n",
       "         -9.46853993e-02,  2.77965673e-01, -1.31608249e-02,\n",
       "         -2.62483837e-02,  2.72926683e-01, -9.98928106e-02,\n",
       "         -3.00494886e-02,  1.16172654e-01,  1.37603176e-01,\n",
       "         -3.84449942e-02, -9.01012727e-03,  6.37739296e-02,\n",
       "          8.03923565e-01, -8.53351457e-02, -1.68136823e-01,\n",
       "          5.86853077e-02, -1.67424930e-01],\n",
       "        [ 8.40343441e-03,  4.49588212e-02, -2.72758552e-01,\n",
       "          3.56059683e-02, -4.40887362e-02, -1.54368358e-01,\n",
       "         -1.21727877e-01, -1.63187853e-01,  2.33211934e-03,\n",
       "         -2.73900153e-02, -3.47458774e-01, -3.77724715e-01,\n",
       "         -5.29216228e-01,  3.04530021e-01,  2.02709808e-01,\n",
       "          1.37400315e-01, -2.25026347e-01, -6.63202080e-02,\n",
       "          2.24362293e-01, -2.29587403e-01],\n",
       "        [ 1.83168437e-02,  4.80582374e-01,  2.70807956e-01,\n",
       "          7.08712199e-01,  1.15958626e-01, -5.74146337e-02,\n",
       "         -3.33498488e-01, -2.01056287e-02,  1.26347825e-01,\n",
       "         -6.39545151e-02, -6.65918868e-02,  1.79801656e-02,\n",
       "          1.07538943e-01, -1.98355128e-02, -1.15071265e-02,\n",
       "         -1.41855279e-02, -1.53941645e-01, -5.35582430e-02,\n",
       "         -1.62377864e-02,  2.81639682e-02],\n",
       "        [ 1.91930359e-02,  1.58349103e-01, -1.05204823e-01,\n",
       "         -4.33496952e-02, -6.26897228e-02,  8.53125336e-02,\n",
       "          1.95516200e-02, -1.27362740e-01,  2.67133800e-02,\n",
       "         -2.25519891e-01, -1.33232919e-01,  1.64034889e-01,\n",
       "         -2.44487337e-01,  1.35920873e-01, -9.62194179e-02,\n",
       "          1.86325982e-01,  2.74184630e-01, -3.99544943e-01,\n",
       "         -7.31675562e-02,  6.89330066e-01],\n",
       "        [ 1.47605962e-02,  9.22938186e-02, -2.14988940e-01,\n",
       "         -2.78314881e-02, -1.37101507e-01,  9.52113855e-02,\n",
       "          2.36435291e-01, -2.42873019e-01,  2.35645946e-01,\n",
       "         -2.59563693e-01, -4.45429559e-01,  1.74760328e-02,\n",
       "          3.36682911e-01, -4.01305359e-01, -2.46993028e-01,\n",
       "          2.85861059e-01, -1.21499531e-01,  5.50227926e-02,\n",
       "          1.66317006e-01, -1.31637633e-01],\n",
       "        [-1.05939709e-02,  3.50319651e-03,  2.52390891e-01,\n",
       "          4.22696438e-02,  2.01860595e-02, -3.74097681e-02,\n",
       "          3.18045602e-01,  8.87450478e-02,  1.30571164e-01,\n",
       "          1.30644644e-01, -3.24479342e-02, -1.34865112e-01,\n",
       "         -4.70859856e-01, -1.32965230e-01, -5.85614938e-01,\n",
       "         -3.54363749e-02, -2.10921848e-01,  1.80583009e-02,\n",
       "         -3.74386340e-01, -4.03116203e-02],\n",
       "        [-3.99881064e-02, -1.73951050e-01,  1.91376352e-01,\n",
       "          5.21391701e-02,  8.92928882e-02, -1.33651879e-01,\n",
       "          4.92995767e-02,  2.33274140e-02,  7.85330098e-02,\n",
       "          2.46328579e-01, -1.00417219e-01,  2.35503586e-02,\n",
       "         -8.02113510e-02, -3.74322762e-02, -2.23208863e-02,\n",
       "          7.84075652e-02, -1.48805542e-01,  5.10276473e-01,\n",
       "          5.07982746e-01,  5.17157460e-01],\n",
       "        [-3.59051223e-02, -4.41028179e-01,  2.59430794e-03,\n",
       "          1.52353656e-01,  2.88241864e-02,  4.05617450e-02,\n",
       "         -2.29154172e-01, -5.89479453e-02,  5.53839895e-01,\n",
       "         -4.37272559e-01,  3.21235246e-01, -9.87263980e-02,\n",
       "         -2.14826244e-01, -1.79058931e-01,  4.60266970e-02,\n",
       "          1.59174933e-02,  1.58465261e-01,  6.00938823e-02,\n",
       "          3.08852309e-02, -3.71276370e-02],\n",
       "        [ 2.76702723e-02,  2.47918152e-01, -3.94709222e-01,\n",
       "         -6.48865113e-02, -6.49815268e-03,  2.72537212e-01,\n",
       "         -1.15986529e-01,  7.17696800e-01,  3.27244845e-01,\n",
       "          1.80496095e-01, -1.77196731e-02, -4.19514284e-02,\n",
       "         -5.35188102e-02, -7.54331744e-02, -5.17502518e-02,\n",
       "         -4.66090018e-02,  1.06155166e-02, -1.98305196e-02,\n",
       "          1.34932827e-01,  3.23315347e-02],\n",
       "        [-6.94107248e-03, -4.13971521e-02,  2.92267458e-01,\n",
       "         -5.45762950e-02, -1.05913199e-01,  1.49601481e-02,\n",
       "          6.39576579e-03,  7.27810119e-02, -1.04191465e-01,\n",
       "         -1.09084440e-01,  8.14971301e-02, -5.92941564e-02,\n",
       "          1.67934600e-02,  4.73728685e-02, -3.58228897e-01,\n",
       "         -2.53657184e-01,  6.00770680e-02, -4.59190625e-01,\n",
       "          6.53115453e-01, -1.54679706e-01],\n",
       "        [ 3.86276161e-03, -2.43628417e-02, -3.76614003e-01,\n",
       "          3.12892167e-01, -1.25505306e-01,  8.64850236e-02,\n",
       "          1.29526772e-01, -3.43331862e-01,  6.80621657e-02,\n",
       "          4.95202051e-01,  4.67355009e-01,  1.13141034e-01,\n",
       "         -1.64833714e-02,  3.25786531e-02, -1.56565841e-01,\n",
       "          2.27599028e-01, -1.62659665e-03, -1.38560284e-01,\n",
       "          1.42713123e-01, -5.89212281e-02],\n",
       "        [-4.10219617e-03, -5.84638398e-02,  2.50750385e-01,\n",
       "         -4.96944942e-02, -1.02064843e-01,  6.10757139e-01,\n",
       "         -1.70846950e-01, -1.35713784e-01, -3.86620461e-02,\n",
       "          1.82604142e-01, -3.04682548e-02, -6.18079256e-01,\n",
       "          1.68335445e-01,  4.79064450e-02, -1.17462387e-02,\n",
       "          1.55670611e-01,  7.03109715e-02,  1.42566362e-02,\n",
       "         -8.26814846e-02,  1.24079988e-01],\n",
       "        [-5.96889143e-02, -3.21581966e-01,  6.26688805e-02,\n",
       "          1.01339209e-01,  5.60495526e-02, -4.24954481e-02,\n",
       "         -8.04980844e-02,  4.37670783e-02,  3.27595711e-01,\n",
       "          2.13009890e-01, -3.94244489e-01,  2.02223051e-01,\n",
       "          2.23838249e-01,  5.61972299e-01, -2.27540707e-01,\n",
       "          3.70347182e-02,  2.53410817e-01, -1.42077723e-02,\n",
       "         -1.04624335e-01, -1.48456615e-01],\n",
       "        [-9.94602510e-01,  8.91590569e-02, -3.16120872e-02,\n",
       "         -1.61014596e-02, -1.30335546e-02,  1.25290871e-02,\n",
       "          1.99715037e-03, -3.54311862e-03, -1.78375787e-02,\n",
       "         -1.82645027e-02,  1.53937684e-02, -6.74382984e-03,\n",
       "         -3.72739423e-03, -1.23023258e-02,  5.35103134e-03,\n",
       "         -2.13786688e-03, -1.78772909e-03, -6.42159098e-03,\n",
       "         -4.74522127e-03, -3.86292885e-03],\n",
       "        [-2.86021460e-02, -4.24263853e-01, -1.88803882e-01,\n",
       "          5.57900821e-01, -1.93446300e-02,  2.31810772e-01,\n",
       "          2.60538972e-01,  2.91316386e-01, -4.44670379e-01,\n",
       "         -1.93913383e-01, -1.57594792e-01, -1.09808906e-02,\n",
       "         -2.41850895e-02, -2.75120226e-02,  3.01489570e-02,\n",
       "         -1.63390164e-02, -1.14165995e-02, -1.65036036e-02,\n",
       "         -1.11220929e-02,  4.57233068e-02]]))"
      ]
     },
     "execution_count": 59,
     "metadata": {},
     "output_type": "execute_result"
    }
   ],
   "source": [
    "np.linalg.eigh(A)"
   ]
  },
  {
   "cell_type": "code",
   "execution_count": 64,
   "metadata": {},
   "outputs": [
    {
     "name": "stdout",
     "output_type": "stream",
     "text": [
      "[ 0.    1.31  0.42 -0.   -0.   -0.   -0.26  0.   -0.    0.23  0.4   0.\n",
      "  0.   -0.    0.   -0.   -0.    0.    0.   -0.  ]\n"
     ]
    },
    {
     "data": {
      "text/plain": [
       "(160, 20)"
      ]
     },
     "execution_count": 64,
     "metadata": {},
     "output_type": "execute_result"
    }
   ],
   "source": [
    "print(np.round(A[:,1],2))\n",
    "A2 = A.copy()\n",
    "A2_SIGNS = np.sign(A2)\n",
    "A2 = np.power(np.abs(A2), 1.2)\n",
    "A2 = A2*A2_SIGNS\n",
    "np.fill_diagonal(A2,np.diag(A))\n",
    "np.round(A2[:,1],2)\n",
    "\n",
    "X1 = multivariate_normal.rvs(mean = np.zeros(20), cov = np.linalg.inv(A), size = 30 ) \n",
    "X2 = multivariate_normal.rvs(mean = np.zeros(20), cov = np.linalg.inv(A2), size = 130 ) \n",
    "X = np.vstack((X1,X2))\n",
    "X.shape"
   ]
  },
  {
   "cell_type": "code",
   "execution_count": 2,
   "metadata": {},
   "outputs": [],
   "source": [
    "def generate_skew_t(Sigma, gamma, nu, n):\n",
    "\n",
    "    \n",
    "\n",
    "    d = Sigma.shape[0]\n",
    "    x = np.random.multivariate_normal(mean = np.zeros(d),cov = Sigma, size = n)\n",
    "    y = np.zeros(shape = (n, d))\n",
    "\n",
    "    for i in range(n):\n",
    "        \n",
    "        u = np.random.uniform()\n",
    "        v = chi2.ppf(u, df = nu)/nu \n",
    "\n",
    "        u = np.random.uniform()\n",
    "        y[i] = (1/v)*gamma+ np.sqrt(1/v)*x[i]\n",
    "\n",
    "    return y"
   ]
  },
  {
   "cell_type": "code",
   "execution_count": 3,
   "metadata": {},
   "outputs": [],
   "source": [
    "prec_1 = np.array([[ 1.51515152,  0.        , -1.06060606,  0.55151515],\n",
    "                    [ 0.        ,  2.5       ,  0.        ,  0.        ],\n",
    "                    [-1.06060606,  0.        ,  2.24242424, -0.60606061],\n",
    "                    [ 0.55151515,  0.        , -0.60606061,  1.51515152]])\n",
    "\n",
    "    \n",
    "gamma = np.zeros(4)# 0.000001*np.ones(4)\n",
    "nu = 4\n",
    "n = 1000\n",
    "X = generate_skew_t(Sigma = np.linalg.inv(prec_1), gamma =  gamma, nu = nu,n = n)\n",
    "#X = multivariate_t.rvs(shape = np.linalg.inv(prec_1), df = 4, size = 100)\n",
    "obs_per_graph = 10"
   ]
  },
  {
   "cell_type": "code",
   "execution_count": 6,
   "metadata": {},
   "outputs": [],
   "source": [
    "# X = generate_skew_t(Sigma = np.linalg.inv(prec_1), gamma =  gamma, nu = nu,n = n)\n",
    "d = X.shape[1]\n",
    "iteration = 0\n",
    "U = np.random.normal(size = (4, 4))\n",
    "theta_pre = prec_1 #np.identity(4)\n",
    "gamma_pre = np.zeros(4)\n",
    "nr_itr = 10\n",
    "while iteration < nr_itr:\n",
    "    # E-step\n",
    "\n",
    "    M = np.einsum('nj,jk,nk->n', X, theta_pre, X)  # Mahalanobis distance\n",
    "    tau = (nu + d)/(nu + M)\n",
    "    tau_inv = (nu + M)/(nu + d-1)\n",
    "    # update gamma\n",
    "    gamma_pre =  np.sum(X, axis=0)/np.sum(tau_inv) \n",
    "    # update theta\n",
    "    gamma_tau = sum([tau_inv[i]*np.outer(gamma_pre, gamma_pre) for i in range(n)])\n",
    "    s_1= sum([np.outer(X[i], gamma_pre) for i in range(n)])/float(X.shape[0])\n",
    "    s_2 = sum([np.outer(gamma_pre,X[i]) for i in range(n)])/float(X.shape[0])\n",
    "    S = np.einsum('nj,n,nk->jk', X, tau, X)/float(X.shape[0]) - s_1 -s_2 + gamma_tau \n",
    "    theta_pre = np.linalg.inv(S)\n",
    "\n",
    "    iteration += 1\n",
    "\n"
   ]
  },
  {
   "cell_type": "code",
   "execution_count": 5,
   "metadata": {},
   "outputs": [
    {
     "data": {
      "text/plain": [
       "array([[ 0.76100783, -0.06479157, -0.46324138,  0.86375057],\n",
       "       [-0.06479157,  2.58478275,  0.0559423 , -0.01303167],\n",
       "       [-0.46324138,  0.0559423 ,  1.90145551, -0.83742821],\n",
       "       [ 0.86375057, -0.01303167, -0.83742821,  1.37581723]])"
      ]
     },
     "execution_count": 5,
     "metadata": {},
     "output_type": "execute_result"
    }
   ],
   "source": [
    "theta_pre"
   ]
  },
  {
   "cell_type": "code",
   "execution_count": 19,
   "metadata": {},
   "outputs": [
    {
     "data": {
      "text/plain": [
       "array([-2.44785590e-02, -1.83281111e-02, -4.39429385e-02, -9.26051770e-05])"
      ]
     },
     "execution_count": 19,
     "metadata": {},
     "output_type": "execute_result"
    }
   ],
   "source": [
    "gamma_pre"
   ]
  },
  {
   "cell_type": "code",
   "execution_count": 18,
   "metadata": {},
   "outputs": [
    {
     "data": {
      "text/plain": [
       "array([[ 1.6 ,  0.1 , -0.98,  0.54],\n",
       "       [ 0.1 ,  2.12, -0.8 ,  0.11],\n",
       "       [-0.98, -0.8 ,  1.13, -0.4 ],\n",
       "       [ 0.54,  0.11, -0.4 ,  1.41]])"
      ]
     },
     "execution_count": 18,
     "metadata": {},
     "output_type": "execute_result"
    }
   ],
   "source": [
    "np.round(theta_pre,2)"
   ]
  },
  {
   "cell_type": "code",
   "execution_count": 336,
   "metadata": {},
   "outputs": [
    {
     "data": {
      "text/plain": [
       "array([-0.0324536 ,  0.01492607,  0.00282577, -0.02887333])"
      ]
     },
     "execution_count": 336,
     "metadata": {},
     "output_type": "execute_result"
    }
   ],
   "source": [
    "gamma_pre"
   ]
  },
  {
   "cell_type": "code",
   "execution_count": 256,
   "metadata": {},
   "outputs": [
    {
     "name": "stdout",
     "output_type": "stream",
     "text": [
      "1.5942486296996785\n",
      "1.5\n",
      "\n",
      "\n",
      "1.044787653154836\n",
      "1.0\n"
     ]
    }
   ],
   "source": [
    "x = np.random.gamma(scale=1/2, shape=3, size= 100)\n",
    "print(np.mean(x))\n",
    "print(3/2)\n",
    "print(\"\\n\")\n",
    "print(np.mean(1/x))\n",
    "print(2/2)"
   ]
  },
  {
   "cell_type": "code",
   "execution_count": 218,
   "metadata": {},
   "outputs": [
    {
     "data": {
      "text/plain": [
       "array([-0.02035587,  0.04222638,  0.09791859,  0.01934823])"
      ]
     },
     "execution_count": 218,
     "metadata": {},
     "output_type": "execute_result"
    }
   ],
   "source": [
    "gamma_pre"
   ]
  },
  {
   "cell_type": "code",
   "execution_count": 193,
   "metadata": {},
   "outputs": [],
   "source": [
    "#theta_pre = np.identity(4)\n",
    "#gamma_pre = np.zeros(4)\n",
    "nr_itr = 1000\n",
    "iteration = 0\n",
    "while iteration < nr_itr:\n",
    "    # E-step\n",
    "    x = X\n",
    "    M = np.einsum('nj,jk,nk->n', x, theta_pre, x)  # Mahalanobis distance\n",
    "    tau = (nu + d)/(nu  + M)\n",
    "    tau_inv = (nu  + M)/(nu + d-1)\n",
    "    gamma_tau = sum([tau_inv[i]*np.outer(gamma_pre, gamma_pre) for i in range(n)])\n",
    "    gamma_pre =  sum([np.dot(theta_pre, X[i]) for i in range(n)])/np.sum(tau_inv)\n",
    "    S = np.einsum('nj,n,nk->jk', x, tau, x)/float(x.shape[0]) + sum([np.outer(X[0], gamma_pre) for i in range(n)])/float(x.shape[0]) + gamma_tau \n",
    "    theta_pre = np.linalg.inv(S)\n",
    "    # gamma_pre =  sum([np.dot(theta_pre, X[i]) for i in range(n)])/np.sum(tau_inv)\n",
    "\n",
    "\n",
    "    iteration += 1"
   ]
  },
  {
   "cell_type": "code",
   "execution_count": 194,
   "metadata": {},
   "outputs": [
    {
     "data": {
      "text/plain": [
       "array([[ 0.57789328,  0.30525655,  0.02131161,  0.09422571],\n",
       "       [ 0.28104568,  1.24705279, -0.49542212,  0.01215562],\n",
       "       [ 0.0355943 , -0.48446141,  0.35448143, -0.03299859],\n",
       "       [ 0.09238286,  0.03853138, -0.04939271,  0.9054783 ]])"
      ]
     },
     "execution_count": 194,
     "metadata": {},
     "output_type": "execute_result"
    }
   ],
   "source": [
    "theta_pre"
   ]
  },
  {
   "cell_type": "code",
   "execution_count": 61,
   "metadata": {},
   "outputs": [
    {
     "data": {
      "text/plain": [
       "array([[ 400.7111662 ,  -30.44524071, -380.2974025 ,  244.32279263],\n",
       "       [ -30.39771615,    6.97679141,  -20.91887137,  -13.9533675 ],\n",
       "       [-380.28512841,  -20.8104357 ,  891.00552616, -280.64602941],\n",
       "       [ 244.30896237,  -13.9849621 , -280.62263314,  236.88638325]])"
      ]
     },
     "execution_count": 61,
     "metadata": {},
     "output_type": "execute_result"
    }
   ],
   "source": [
    "theta_pre"
   ]
  },
  {
   "cell_type": "code",
   "execution_count": 52,
   "metadata": {},
   "outputs": [
    {
     "data": {
      "text/plain": [
       "array([[ 443.0133114 , -104.93596066, -440.72230393,  289.46535903],\n",
       "       [-104.93299927,  171.46904426,  -67.18435874,  -91.41312691],\n",
       "       [-440.7178959 ,  -67.17236299,  668.12766756, -317.38521714],\n",
       "       [ 289.46461549,  -91.41530613, -317.38544917,  301.76563468]])"
      ]
     },
     "execution_count": 52,
     "metadata": {},
     "output_type": "execute_result"
    }
   ],
   "source": [
    "theta_pre"
   ]
  }
 ],
 "metadata": {
  "kernelspec": {
   "display_name": "DyGraph",
   "language": "python",
   "name": "python3"
  },
  "language_info": {
   "codemirror_mode": {
    "name": "ipython",
    "version": 3
   },
   "file_extension": ".py",
   "mimetype": "text/x-python",
   "name": "python",
   "nbconvert_exporter": "python",
   "pygments_lexer": "ipython3",
   "version": "3.10.6"
  },
  "orig_nbformat": 4,
  "vscode": {
   "interpreter": {
    "hash": "95fbe69513d588cbfb572e93f5d450d181f1d8d49af9eba3df43ef2e3376dba8"
   }
  }
 },
 "nbformat": 4,
 "nbformat_minor": 2
}
